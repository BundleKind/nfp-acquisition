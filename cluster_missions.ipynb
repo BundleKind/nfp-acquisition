{
 "cells": [
  {
   "cell_type": "markdown",
   "metadata": {},
   "source": [
    "# Cluster the mission statements of the nonprofits\n",
    "\n",
    "Take the not-for-profit organization name and/or their mission statement from  Form 990/Form 990N data and identify natural groupings to help categorize them.\n",
    "\n",
    "For this, we only used charities in GA, IL, MI, MT, and NY. "
   ]
  },
  {
   "cell_type": "code",
   "execution_count": 1,
   "metadata": {
    "collapsed": true
   },
   "outputs": [],
   "source": [
    "%matplotlib inline\n",
    "import csv\n",
    "import glob\n",
    "import os\n",
    "import re\n",
    "import matplotlib.pyplot as plt\n",
    "import numpy as np\n",
    "\n",
    "from collections import Counter\n",
    "from nltk.stem.porter import PorterStemmer\n",
    "from nltk.corpus import stopwords\n",
    "\n",
    "plt.rcParams['figure.figsize'] = (12, 7)"
   ]
  },
  {
   "cell_type": "code",
   "execution_count": 2,
   "metadata": {
    "collapsed": false
   },
   "outputs": [],
   "source": [
    "# Go through all of the entries from all of the Form 990 tax forms.\n",
    "# We want\n",
    "#  - the EIN number (to identify the business)\n",
    "#  - their business name (because sometimes that's all there is)\n",
    "#  - their mission statement(s)\n",
    "state_paths = glob.glob(os.path.join('data', 'form990', '*'))\n",
    "nfp_names = {}  # Map the EIN number to the business name\n",
    "missions = {}  # Map the EIN number to the mission statement(s)\n",
    "for dirname in state_paths:\n",
    "    cities_990 = glob.glob(os.path.join(dirname, '*'))\n",
    "    for fname in cities_990:\n",
    "        with open(fname) as infile:\n",
    "            rdr = csv.reader(infile, delimiter='\\t')\n",
    "            nfp_names_etc = [\n",
    "                (row[0], row[1], row[30], row[-1], row[-2])\n",
    "                for row in rdr\n",
    "            ]\n",
    "            nfp_names.update(dict(entry[:2] for entry in nfp_names_etc))\n",
    "            missions.update(dict(\n",
    "                    (entry[0], '  '.join(set(entry[1:])))  # remove duplicates\n",
    "                    for entry in nfp_names_etc\n",
    "            ))"
   ]
  },
  {
   "cell_type": "code",
   "execution_count": 3,
   "metadata": {
    "collapsed": false
   },
   "outputs": [],
   "source": [
    "# Also go through the Form 990N tax forms.\n",
    "# We want\n",
    "#  - the EIN number (to identify the business)\n",
    "#  - their business name (there is no mission statement)\n",
    "state_paths = glob.glob(os.path.join('data', 'form990N', '*'))\n",
    "for dirname in state_paths:\n",
    "    cities_990 = glob.glob(os.path.join(dirname, '*'))\n",
    "    for fname in cities_990:\n",
    "        with open(fname) as infile:\n",
    "            rdr = csv.reader(infile, delimiter='\\t')\n",
    "            ein_to_name = dict((row[0], row[1]) for row in rdr)\n",
    "            nfp_names.update(ein_to_name)\n",
    "            # Missions too (use the name as the mission for 990Ns)...\n",
    "            missions.update(ein_to_name)"
   ]
  },
  {
   "cell_type": "code",
   "execution_count": 4,
   "metadata": {
    "collapsed": true
   },
   "outputs": [],
   "source": [
    "# The tokenizer will split out words to help autogenerate\n",
    "# 'tags' for the Nonprofit names/missions using the\n",
    "# Natural Language Toolkit\n",
    "def tokenize(\n",
    "        phrase,\n",
    "        space_or_punct=re.compile(\"[\\s,:!\\.]+\"),\n",
    "        stemmer=PorterStemmer(),\n",
    "        stopwords=stopwords.words(\"English\")):\n",
    "    split_phrase = space_or_punct.split(phrase.lower())\n",
    "    return set(stemmer.stem(word)\n",
    "               for word in split_phrase\n",
    "               if word not in stopwords and len(word))"
   ]
  },
  {
   "cell_type": "code",
   "execution_count": 5,
   "metadata": {
    "collapsed": false
   },
   "outputs": [
    {
     "name": "stdout",
     "output_type": "stream",
     "text": [
      "Most common:\n",
      "[('2015', 49758), ('2014', 43442), ('provid', 17054)]\n",
      "\n",
      "Least common:\n",
      "[('webr', 1), ('studiesschool', 1), ('families/visitor', 1)]\n",
      "Initial number of words: 56527\n",
      "Words occurring 56 to 18842 times\n",
      "words remaining: 2277\n"
     ]
    }
   ],
   "source": [
    "tokenized_missions = dict(\n",
    "    (ein, tokenize(msg)) for ein, msg in missions.items()\n",
    ")\n",
    "word_counts = Counter(\n",
    "    word for mission in tokenized_missions.values() for word in mission\n",
    ")\n",
    "\n",
    "print('Most common:')\n",
    "print(word_counts.most_common(3))\n",
    "print('\\nLeast common:')\n",
    "print(word_counts.most_common()[-3:])\n",
    "\n",
    "# Delete anything with too few occurrences (say less than 1%)\n",
    "low_thresh = len(word_counts) // 1000\n",
    "high_thresh = len(word_counts) // 3\n",
    "excluded_words = set([str(yr) for yr in range(2007,2017)])\n",
    "print('Initial number of words:', len(word_counts))\n",
    "for k in sorted(word_counts.keys()):\n",
    "    if word_counts[k] < low_thresh or word_counts[k] > high_thresh:\n",
    "        excluded_words.add(word_counts[k])\n",
    "        del word_counts[k]\n",
    "\n",
    "\n",
    "print('Words occurring {} to {} times'.format(low_thresh, high_thresh))\n",
    "print('words remaining:', len(word_counts))"
   ]
  },
  {
   "cell_type": "code",
   "execution_count": 6,
   "metadata": {
    "collapsed": false
   },
   "outputs": [
    {
     "data": {
      "image/png": "[encoded data removed]",
      "text/plain": [
       "<matplotlib.figure.Figure at 0x110898eb8>"
      ]
     },
     "metadata": {},
     "output_type": "display_data"
    }
   ],
   "source": [
    "__ = plt.hist(sorted(word_counts.values()), log=True)"
   ]
  },
  {
   "cell_type": "code",
   "execution_count": 7,
   "metadata": {
    "collapsed": true
   },
   "outputs": [],
   "source": [
    "#from scipy.cluster.hierarchy import linkage, dendrogram\n",
    "from sklearn.cluster import k_means\n",
    "from sklearn.feature_extraction.text import HashingVectorizer"
   ]
  },
  {
   "cell_type": "code",
   "execution_count": 8,
   "metadata": {
    "collapsed": false
   },
   "outputs": [],
   "source": [
    "sorted_nfps = sorted(tokenized_missions.keys())\n",
    "\n",
    "token_matrix = HashingVectorizer().transform(\n",
    "    ' '.join(tokenized_missions[ein])\n",
    "    for ein in sorted_nfps\n",
    ")"
   ]
  },
  {
   "cell_type": "code",
   "execution_count": 9,
   "metadata": {
    "collapsed": false
   },
   "outputs": [
    {
     "data": {
      "image/png": "[encoded data removed]",
      "text/plain": [
       "<matplotlib.figure.Figure at 0x11a10e668>"
      ]
     },
     "metadata": {},
     "output_type": "display_data"
    }
   ],
   "source": [
    "mean_distances = {}\n",
    "for k in range(6, 12):\n",
    "    mean_distances[k] = [\n",
    "        k_means(token_matrix, k)[-1]\n",
    "        for i in range(3)\n",
    "    ]\n",
    "\n",
    "keys = sorted(mean_distances.keys())\n",
    "ax = plt.boxplot([mean_distances[k] for k in keys], labels=keys)\n",
    "__ = plt.suptitle(\n",
    "    'Average of total error given number of clusters',\n",
    "    fontweight='bold', fontsize=14\n",
    ")"
   ]
  },
  {
   "cell_type": "code",
   "execution_count": 10,
   "metadata": {
    "collapsed": false
   },
   "outputs": [],
   "source": [
    "num_clusters = 10\n",
    "centers, labels, inertia =  k_means(token_matrix, num_clusters)"
   ]
  },
  {
   "cell_type": "code",
   "execution_count": 11,
   "metadata": {
    "collapsed": false
   },
   "outputs": [],
   "source": [
    "clustered_eins = {}\n",
    "for label, ein in zip(labels, sorted_nfps):\n",
    "    if label not in clustered_eins:\n",
    "        clustered_eins[label] = [ein]\n",
    "    else:\n",
    "        clustered_eins[label].append(ein)"
   ]
  },
  {
   "cell_type": "code",
   "execution_count": 12,
   "metadata": {
    "collapsed": false
   },
   "outputs": [
    {
     "name": "stdout",
     "output_type": "stream",
     "text": [
      "~~~~~~~~~~~~~~~~~~~~\n",
      "0 size: 41387\n",
      "[('fee', 889), ('expens', 603), ('file', 373), ('bank', 343), ('invest', 238), ('charg', 228), ('round', 201), ('incom', 191), ('adjust', 173), ('tax', 172)]\n",
      "~~~~~~~~~~~~~~~~~~~~\n",
      "1 size: 20147\n",
      "[('fee', 579), ('expens', 484), ('bank', 398), ('charg', 276), ('file', 201), ('incom', 167), ('none', 125), ('invest', 118), ('receiv', 103), ('miscellan', 81)]\n",
      "~~~~~~~~~~~~~~~~~~~~\n",
      "2 size: 1525\n",
      "[]\n",
      "~~~~~~~~~~~~~~~~~~~~\n",
      "3 size: 2136\n",
      "[]\n",
      "~~~~~~~~~~~~~~~~~~~~\n",
      "4 size: 2220\n",
      "[]\n",
      "~~~~~~~~~~~~~~~~~~~~\n",
      "5 size: 2699\n",
      "[]\n",
      "~~~~~~~~~~~~~~~~~~~~\n",
      "6 size: 32955\n",
      "[('provid', 17054), ('educ', 10449), ('program', 10399), ('servic', 9956), ('commun', 9341), ('organ', 8017), ('support', 7869), ('develop', 5891), ('care', 5170), ('promot', 4922)]\n",
      "~~~~~~~~~~~~~~~~~~~~\n",
      "7 size: 1936\n",
      "[]\n",
      "~~~~~~~~~~~~~~~~~~~~\n",
      "8 size: 3885\n",
      "[('fee', 52), ('bank', 41), ('charg', 26), ('file', 19), ('expens', 17), ('incom', 14), ('interest', 11), ('invest', 9), ('tax', 8), ('none', 8)]\n",
      "~~~~~~~~~~~~~~~~~~~~\n",
      "9 size: 1691\n",
      "[]\n"
     ]
    }
   ],
   "source": [
    "clustered_counters = {}\n",
    "for label, eins in clustered_eins.items():\n",
    "    clustered_counters[label] = Counter(\n",
    "        word \n",
    "        for ein in eins\n",
    "            for word in  tokenized_missions[ein]\n",
    "            if word not in excluded_words\n",
    "    )\n",
    "    print('~' * 20)\n",
    "    print(label, 'size:', len(eins))\n",
    "    print(clustered_counters[label].most_common(10))"
   ]
  }
 ],
 "metadata": {
  "kernelspec": {
   "display_name": "Python 3",
   "language": "python",
   "name": "python3"
  },
  "language_info": {
   "codemirror_mode": {
    "name": "ipython",
    "version": 3
   },
   "file_extension": ".py",
   "mimetype": "text/x-python",
   "name": "python",
   "nbconvert_exporter": "python",
   "pygments_lexer": "ipython3",
   "version": "3.5.2"
  }
 },
 "nbformat": 4,
 "nbformat_minor": 0
}
