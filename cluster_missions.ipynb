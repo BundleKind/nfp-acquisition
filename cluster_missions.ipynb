{
 "cells": [
  {
   "cell_type": "markdown",
   "metadata": {},
   "source": [
    "# Cluster the mission statements of the nonprofits\n",
    "\n",
    "Take the not-for-profit organization name and/or their mission statement from  Form 990/Form 990N data and identify natural groupings to help categorize them.\n",
    "\n",
    "For this, we only used charities in GA, IL, MI, MT, and NY. (And already it takes a while to run.)"
   ]
  },
  {
   "cell_type": "markdown",
   "metadata": {},
   "source": [
    "## Setup"
   ]
  },
  {
   "cell_type": "code",
   "execution_count": 1,
   "metadata": {
    "collapsed": true
   },
   "outputs": [],
   "source": [
    "%matplotlib inline\n",
    "import csv\n",
    "import glob\n",
    "import os\n",
    "import re\n",
    "import matplotlib.pyplot as plt\n",
    "import numpy as np\n",
    "\n",
    "from collections import Counter\n",
    "from nltk.stem.porter import PorterStemmer\n",
    "from nltk.corpus import stopwords\n",
    "\n",
    "plt.rcParams['figure.figsize'] = (12, 7)"
   ]
  },
  {
   "cell_type": "markdown",
   "metadata": {},
   "source": [
    "## Load the data\n",
    "Map the organization names and (if they exist) mission statements to the Nonprofit's Employer ID Number (EIN). The goal is to group similar organizations."
   ]
  },
  {
   "cell_type": "code",
   "execution_count": 2,
   "metadata": {
    "collapsed": false
   },
   "outputs": [],
   "source": [
    "# Go through all of the entries from all of the Form 990 tax forms.\n",
    "# We want\n",
    "#  - the EIN number (to identify the business)\n",
    "#  - their business name (because sometimes that's all there is)\n",
    "#  - their mission statement(s)\n",
    "state_paths = glob.glob(os.path.join('data', 'form990', '*'))\n",
    "nfp_names = {}  # Map the EIN number to the business name\n",
    "missions = {}  # Map the EIN number to the mission statement(s)\n",
    "\n",
    "# We will also want a future lookup of state + city --> EIN\n",
    "ein_state_city = {}\n",
    "\n",
    "def get_city(path):\n",
    "    return os.path.basename(path)[:-4]\n",
    "\n",
    "for dirname in state_paths:\n",
    "    cities_990 = glob.glob(os.path.join(dirname, '*'))\n",
    "    # Set up to collect all of the EINs in a given state and city.\n",
    "    state_abbr = os.path.basename(dirname)\n",
    "    ein_state_city[state_abbr] = {}\n",
    "\n",
    "    for fname in cities_990:\n",
    "        city = get_city(fname)\n",
    "        ein_state_city[state_abbr][city] = []\n",
    "        with open(fname) as infile:\n",
    "            rdr = csv.reader(infile, delimiter='\\t')\n",
    "            nfp_names_etc = [\n",
    "                (row[0], row[2], row[27], row[-1], row[-2])\n",
    "                for row in rdr\n",
    "            ]\n",
    "            nfp_names.update(dict(entry[:2] for entry in nfp_names_etc))\n",
    "            missions.update(dict(\n",
    "                    (entry[0], '  '.join(set(entry[1:])))  # remove duplicates\n",
    "                    for entry in nfp_names_etc\n",
    "            ))\n",
    "            ein_state_city[state_abbr][city].extend(\n",
    "                [row[0] for row in nfp_names_etc]\n",
    "            )"
   ]
  },
  {
   "cell_type": "markdown",
   "metadata": {},
   "source": [
    "## See a few of the entries"
   ]
  },
  {
   "cell_type": "code",
   "execution_count": 3,
   "metadata": {
    "collapsed": false,
    "scrolled": true
   },
   "outputs": [
    {
     "name": "stdout",
     "output_type": "stream",
     "text": [
      "('', '')\n",
      "('386107780', 'MICHIGAN PEO FUND INC    X')\n",
      "('133843506', 'TZOFIM TZABAR: SCOUTING ACTIVITIES IN THE US  X  FRIENDS OF ISRAEL SCOUTS INC  SEE WWW.ISRAELSCOUTS.ORG')\n",
      "('382928035', \"Michigan Senior Olympics promotes healthy lifestyles by organizing state games, sports competitions and health, fitness, and wellness programs for active individuals 50 years plus  MICHIGAN SENIOR OLYMPICS INC  X  Michigan Senior Olympics promotes healthy lifestyles by organizing state games, sports competitions and health, fitness, and wellness programs for active individuals 50 years plus. Michigan Senior Olympics' vision is to provide all individuals 50 years plus with the programs to enjoy healthy and active lifestyles.\")\n",
      "('141997994', '  X  CATS IN THE CRADLE')\n"
     ]
    }
   ],
   "source": [
    "counter = 0\n",
    "iterator = iter(missions.items())\n",
    "while counter < 5:\n",
    "    print(next(iterator))\n",
    "    counter += 1"
   ]
  },
  {
   "cell_type": "markdown",
   "metadata": {},
   "source": [
    "## Continue by loading the 990N data"
   ]
  },
  {
   "cell_type": "code",
   "execution_count": 4,
   "metadata": {
    "collapsed": false
   },
   "outputs": [],
   "source": [
    "# Also go through the Form 990N tax forms.\n",
    "# We want\n",
    "#  - the EIN number (to identify the business)\n",
    "#  - their business name (there is no mission statement)\n",
    "state_paths = glob.glob(os.path.join('data', 'form990N', '*'))\n",
    "for dirname in state_paths:\n",
    "    state_abbr = os.path.basename(dirname)\n",
    "    if state_abbr not in ein_state_city:\n",
    "        ein_state_city[state_abbr] = {}\n",
    "    cities_990 = glob.glob(os.path.join(dirname, '*'))\n",
    "    for fname in cities_990:\n",
    "        city = get_city(fname)\n",
    "        if city not in ein_state_city[state_abbr]:\n",
    "            ein_state_city[state_abbr][city] = []\n",
    "        with open(fname) as infile:\n",
    "            rdr = csv.reader(infile, delimiter='\\t')\n",
    "            ein_to_name = dict((row[0], row[2]) for row in rdr)\n",
    "            nfp_names.update(ein_to_name)\n",
    "            # Missions too (use the name as the mission for 990Ns)...\n",
    "            missions.update(ein_to_name)\n",
    "            ein_state_city[state_abbr][city].extend(ein_to_name.keys())\n",
    "\n",
    "\n",
    "del missions['']  # There was an empty EIN somewhere"
   ]
  },
  {
   "cell_type": "markdown",
   "metadata": {},
   "source": [
    "## Group the Not-for-Profits by mission\n",
    "1. Tokenize using the NLTK and scikit-learn text tools\n",
    "2. Cluster using K-means\n",
    "3. Look at what the clusters are and try and distinguish common features"
   ]
  },
  {
   "cell_type": "code",
   "execution_count": 5,
   "metadata": {
    "collapsed": true
   },
   "outputs": [],
   "source": [
    "# The tokenizer will split out words to help autogenerate\n",
    "# 'tags' for the Nonprofit names/missions using the\n",
    "# Natural Language Toolkit\n",
    "custom_stopwords = stopwords.words('English') + [\n",
    "    'x', 'association', 'club', 'institute', 'consortium', 'group',\n",
    "    'incorporated', 'inc', 'llc', 'l3c', '&'\n",
    "]\n",
    "def tokenize(\n",
    "        phrase,\n",
    "        space_or_punct=re.compile(\"[\\s,;:!\\.]+\"),\n",
    "        stemmer=PorterStemmer(),\n",
    "        stopwords=stopwords.words(\"English\")):\n",
    "    split_phrase = space_or_punct.split(phrase.lower())\n",
    "    return set(stemmer.stem(word)\n",
    "               for word in split_phrase\n",
    "               if word not in stopwords and len(word))"
   ]
  },
  {
   "cell_type": "code",
   "execution_count": 6,
   "metadata": {
    "collapsed": true
   },
   "outputs": [],
   "source": [
    "#from scipy.cluster.hierarchy import linkage, dendrogram\n",
    "from sklearn.cluster import k_means\n",
    "from sklearn.feature_extraction.text import HashingVectorizer\n",
    "from sklearn.feature_extraction.text import TfidfVectorizer"
   ]
  },
  {
   "cell_type": "code",
   "execution_count": 7,
   "metadata": {
    "collapsed": false
   },
   "outputs": [],
   "source": [
    "sorted_nfps = sorted(missions.keys())\n",
    "token_matrix = HashingVectorizer(\n",
    "    tokenizer=tokenize,\n",
    "    n_features=150\n",
    ").transform([missions[ein] for ein in sorted_nfps])"
   ]
  },
  {
   "cell_type": "markdown",
   "metadata": {},
   "source": [
    "### Try multiple cluster sizes to find some categorization that levels off\n",
    "(This takes a really long time.)"
   ]
  },
  {
   "cell_type": "code",
   "execution_count": 8,
   "metadata": {
    "collapsed": false
   },
   "outputs": [
    {
     "name": "stdout",
     "output_type": "stream",
     "text": [
      "cluster size: 5\n",
      "cluster size: 6\n",
      "cluster size: 7\n",
      "cluster size: 8\n",
      "cluster size: 9\n",
      "cluster size: 10\n",
      "cluster size: 11\n",
      "cluster size: 12\n"
     ]
    }
   ],
   "source": [
    "mean_distances = {}\n",
    "for k in range(5, 13):\n",
    "    print('cluster size:', k)\n",
    "    mean_distances[k] = k_means(token_matrix, k)[-1]"
   ]
  },
  {
   "cell_type": "code",
   "execution_count": 10,
   "metadata": {
    "collapsed": false
   },
   "outputs": [
    {
     "data": {
      "image/png": "[encoded data removed]",
      "text/plain": [
       "<matplotlib.figure.Figure at 0x1113b0400>"
      ]
     },
     "metadata": {},
     "output_type": "display_data"
    }
   ],
   "source": [
    "keys = list(mean_distances.keys())\n",
    "ax = plt.plot(keys, [mean_distances[k] for k in keys])\n",
    "__ = plt.suptitle(\n",
    "    'Average of total error given number of clusters',\n",
    "    fontweight='bold', fontsize=14)"
   ]
  },
  {
   "cell_type": "markdown",
   "metadata": {},
   "source": [
    "### Well, nothing bottomed out.\n",
    "Just pick a big number of clusters. Maybe I'll run the loop with more clusters later, but it takes over an hour."
   ]
  },
  {
   "cell_type": "code",
   "execution_count": 11,
   "metadata": {
    "collapsed": false
   },
   "outputs": [],
   "source": [
    "num_clusters = 12\n",
    "centers, labels, inertia =  k_means(token_matrix, num_clusters)"
   ]
  },
  {
   "cell_type": "code",
   "execution_count": 12,
   "metadata": {
    "collapsed": false
   },
   "outputs": [
    {
     "name": "stdout",
     "output_type": "stream",
     "text": [
      "~~~~~~~~~~~~~~~~~~~~\n",
      "0\n",
      "14904\n",
      "LULU VIOLET TEMPLE 1118\n",
      "  ATLAS PIPELINE PARTNERS  TSUNIS FAMILY FOUNDATION INC\n",
      "  EXCISE TAX REFUND  DANCING TIDES FOUNDATION INC C/O FLSV SETH STARR\n",
      "  DC FILING FEE  MAAK FOUNDATION\n",
      "  INVESTMENT & ADVISORY FEES  HUMAN GROWTH FOUNDATION\n",
      "[('education', 870), ('bank', 818), ('expenses', 813), ('filing', 736), ('county', 724), ('fee', 595), ('extension', 523), ('income', 519), ('champaign', 484), ('charges', 483), ('co', 454), ('investment', 451), ('tax', 393), ('educational', 360), ('unrealized', 321), ('support', 306), ('school', 280), ('memorial', 263), ('j', 256), ('-', 256)]\n",
      "~~~~~~~~~~~~~~~~~~~~\n",
      "1\n",
      "21605\n",
      "Religious and Charitable Organization, formed and funded for the purpose of spreading the Christian religion and its beliefs both domestically and internationally.  Printing and distribution of a quarterly devotional called \"The Word For You Today\". These publications are distributed to shut-ins, prisoners, churches & others throughout the United States.  X  Celebration Inc DBA Bob Gass Evangelistic Assoc\n",
      "SHOREFRONT\n",
      "STRIKE PERCUSSION ENSEMBLE\n",
      "GREATER ROCHELLE AREA CHRISTIAN EDUCATORS\n",
      "amvets\n",
      "[('county', 924), ('university', 868), ('michigan', 867), ('students', 865), ('washington', 842), ('united', 823), ('center', 814), ('public', 803), ('education', 721), ('organization', 655), ('friends', 633), ('america', 617), ('charitable', 617), ('new', 607), ('national', 607), ('historical', 595), ('foundation', 580), ('program', 571), ('support', 524), ('council', 519)]\n",
      "~~~~~~~~~~~~~~~~~~~~\n",
      "2\n",
      "13188\n",
      "  X  MAINE JAZZ CAMP\n",
      "  Androscoggin Alumni Association Inc  X\n",
      "SIETAR USA    X\n",
      "  Global Care Outreach Inc  X\n",
      "  FRIENDS OF OATLAND ISLAND  X\n",
      "[('youth', 483), ('society', 474), ('fund', 472), ('friends', 425), ('fire', 379), ('education', 377), ('provide', 366), ('organization', 347), ('support', 338), ('arts', 292), ('services', 285), ('housing', 251), ('ministries', 250), ('public', 247), ('new', 243), ('care', 239), ('rescue', 230), ('children', 227), ('promote', 223), ('council', 223)]\n",
      "~~~~~~~~~~~~~~~~~~~~\n",
      "3\n",
      "2597\n",
      "NEW YORK SYMPHONY ORCHESTRA INC\n",
      "A NEW START ON LIFE\n",
      "FEDERATED GARDEN CLUBS OF NEW YORK STATE INC\n",
      "FEDERATED GARDEN CLUBS OF NEW YORK\n",
      "CAPT DANS FARMSTEAD\n",
      "[('masons', 209), ('grange', 205), ('free', 182), ('foundation', 173), ('accepted', 171), ('order', 124), ('western', 122), ('veterans', 116), ('eastern', 115), ('star', 112), ('patrons', 104), ('husbandry', 103), ('provide', 98), ('society', 97), ('housing', 95), ('services', 91), ('fund', 86), ('auxiliary', 86), ('garden', 83), ('school', 82)]\n",
      "~~~~~~~~~~~~~~~~~~~~\n",
      "4\n",
      "5994\n",
      "AMERICAN ASSOCIATION OF OTOLARYNGOLOGIST OF INDIAN HERITAGE\n",
      "HAITIAN AMERICAN CENTER FOR BUSINESS & ECON DEVELOP INC\n",
      "CHANGING LIVES AND TRANSFORMING COMMUNITIES PRIMARILY IN JAMAICA THROUGH EDUCATION AND TRAINING.  PROVIDES EDUCATION AND TRAINING OPPORTUNITIES IN US AND IN RURAL JAMAICAN COMMUNITIES. VOLUNTEERS FROM THE US TRAVEL TO THE ORGANIZATION'S FACILITIES IN RURAL JAMAICA. DURING THEIR VISIT VOLUNTEERS ASSISTIN PROVIDING HEALTH CARE, EDUCATION, AND SPIRITUAL SUPPORT TO THE LOCAL JAMAICAN COMMUNITY. THE FAITH BASED ORGANIZATION IS FOCUSED ON REDUCING POVERTY BY PROVIDING SUPPORT AND TEACHING SKILLS TO CREATE A MORE SELF SUSTANING LOCAL COMMUNITY IN JAMAICA.  X  AMERICAN CARIBBEAN EXPERIENCE INC\n",
      "CARLINVILLE RIFLE & PISTOL CLUB\n",
      "HIGHLAND MUSIC BOOSTER CLUB\n",
      "[('employees', 399), ('teachers', 387), ('state', 378), ('post', 362), ('national', 354), ('municipal', 346), ('society', 335), ('booster', 291), ('revolution', 207), ('foundation', 207), ('friends', 164), ('daughters', 163), ('school', 140), ('rural', 119), ('veterans', 118), ('high', 112), ('exchange', 101), ('israel', 92), ('rotary', 90), ('mt', 89)]\n",
      "~~~~~~~~~~~~~~~~~~~~\n",
      "5\n",
      "18520\n",
      "SCHOOL OF PAINTING AND SCULPTURE ATTENDED BY 65 STUDENTS.  X  SKOWHEGAN SCHOOL OF PAINTING AND SCULPTURE INC  SKOWHEGAN, PRIMARILY A SUMMER RESIDENCY PROGRAM FOR EMERGING VISUAL ARTISTS ESTABLISHED IN 1946, SEEKS EACH YEAR TO BRING TOGETHER A GIFTED AND DIVERSE GROUP OF INDIVIDUALS WHO HAVE DEMONSTRATED A COMMITMENT TO ART-MAKING AND INQUIRY TO CREATE THE MOST STIMULATING AND RIGOROUS ENVIRONMENT FOR A CONCENTRATED PERIOD OF ARTISTIC CREATION, INTERACTION AND GROWTH.SKOWHEGAN ALSO SPONSORS PROGRAMS IN NEW YORK CITY DURING FALL, WINTER AND SPRING TO FOSTER ITS MISSION AMONG ALUMNI AND THE VISUAL ARTS COMMUNITY.\n",
      "THE MAIN IDEA PROVIDES ECONOMICALLY DISADVANTAGED GIRLS AGES 9 - 14 WITH A SLEEP-AWAY, SUMMER CAMP EXPERIENCE THAT BUILDS SELF-CONFIDENCE, PROMOTES LEADERSHIP SKILLS, AND CREATES A TRUSTING AND SECURE ENVIRONMENT WHERE CAMPERS CAN LEARN TO LIVE TOGETHER, SET NEW GOALS, AND ENJOY AS WELL AS SUSTAIN THE NATURAL SPLENDOR SURROUNDING THEM IN THE MAINE WOODS.  THE MAIN IDEA INC  X  THE MAIN IDEA, INC. MAINTAINS A PROGRAM FOR ECONOMICALLY DISADVANTAGED GIRLS AT CAMP WALDEN, DENMARK, MAINE. THE NON-PROFIT ORGANIZATION RUNS A CAMP FOR 10 DAYS AT CAMP WALDEN EACH SUMMER. IN 2015 THE CAMP SERVED 148 CHILDREN.\n",
      "Alternative education program for students with special needs. Serves students in grades 7 to 12, and is certified as a private school by the Maine Department of Education.  X  Combination of process and content learning strategies facilitates more effective behavior change because content taught is related to activities that are relevant and motivating.The organization employ an experiential, hands-on approach to teach academic, employment, and personal-social competencies in the context of real-world themes, projects, and vocational clusters. Such contextualized learning makes content relevant and meaningful for students and increases their motivation to learn. They serve a wide array of learners, all of whom have in common their preference for learning by doing. In turn, this knowledge is applied to new situations where recently acquired skills are practiced while new ones are introduced.  FUTURE BUILDERS SCHOOL ON THOMAS POND\n",
      "DEDICATED TO CHAMPION DIVERSE NEW MUSIC, PRESENT MULTI-MEDIA PERFORMANCES, GENERATE EDUCATIONAL PROGRAMS AND COMMISSION OF INNOVATIVE WORKS.  X  FULCRUM POINT NEW MUSIC PROJECT\n",
      "THROUGH THE ANNUAL ALLIED MEDIA CONFERENCE WE INNOVATE AND EXCHANGE MODELS FOR USING MEDIA FOR TRANSFORMATIVE SOCIAL CHANGE. OUT OF THE CONFERENCE EMERGE NEW PROJECTS, CAMPAIGNS, AND COLLABORATIONS THAT CONTINUE YEAR ROUND. THROUGH OUR SPONSORED PROJECTS PROGRAM, AMP OFFERS THESE PROJECTS ACCESS TO A RANGE OF SUPPORTIVE SERVICES INCLUDING FISCAL MANAGEMENT, PROJECT PLANNING, FUNDRAISING SUPPORT, AND COMMUNICATIONS STRATEGY.  ALLIED MEDIA PROJECTS INC  X  ALLIED MEDIA PROJECTS CULTIVATES MEDIA STRATEGIES FOR A MORE JUST, CREATIVE, AND COLLABORATIVE WORLD. WE SERVE A NETWORK OF MEDIA MAKERS, ARTISTS, EDUCATORS, AND TECHNOLOGISTS WORKING FOR SOCIAL JUSTICE.\n",
      "[('support', 6033), ('children', 5650), ('school', 5394), ('provides', 5312), ('education', 5180), ('program', 5160), ('programs', 5102), ('center', 5000), ('organization', 4210), ('medical', 4054), ('new', 3941), ('foundation', 3919), ('provided', 3890), ('providing', 3878), ('educational', 3674), ('-', 3588), ('mission', 3579), ('students', 3423), ('families', 3214), ('public', 3104)]\n",
      "~~~~~~~~~~~~~~~~~~~~\n",
      "6\n",
      "3373\n",
      "Okanogan Regional Spay & Neuter    44727\n",
      "ILLINOIS LEATHERNECKS CENTRAL CHAPTER\n",
      "SONS OF ITALY IN AMERICA\n",
      "SONS OF ITALY IN AMERICA\n",
      "LIVONIA HOOK AND LADDER COMPANY NO 1\n",
      "[('foreign', 493), ('independent', 392), ('chapter', 388), ('free', 311), ('accepted', 308), ('georgia', 307), ('dept', 296), ('eastern', 289), ('star', 288), ('masons', 287), ('illinois', 241), ('fraternal', 241), ('fellows', 230), ('odd', 229), ('michigan', 182), ('washington', 179), ('united', 170), ('states', 164), ('foresters', 157), ('department', 138)]\n",
      "~~~~~~~~~~~~~~~~~~~~\n",
      "7\n",
      "8694\n",
      "SHARING EXPERTISE AND RESOURCES TO PROMOTE INNOVATION IN MEDICAL SCHOOL EDUCATION AND RESEARCH AND PROVIDING A FORUM TO ADDRESS ISSUES OF INTEREST AND CONCERN TO THE ACADEMIC LEADERSHIP IN MEMBER INSTITUTIONS.  ALLIANCE OF INDEP ACADEMIC MEDICAL CTRS  X  THE ORGANIZATON IS A NATIONAL NETWORK OF LARGE ACADEMIC MEDICAL CENTERS AND HEALTH SYSTEMS COMMITTED TO QUALITY PATIENT CARE, MEDICAL EDUCATION AND RESEARCH.\n",
      "PRINCE AVENUE CHRISTIAN SCHOOL EXISTS TO INFUSE OUR SCHOOL COMMUNITY WITH A BIBLICAL WORLDVIEW BY EFFECTIVELY SHARING THE GOSPEL AND DEVELOPING FULLY DEVOTED FOLLOWERS OF JESUS CHRIST THROUGH SCRIPTURALLY BASED DISCIPLESHIP, ACADEMICS, FINE ARTS, AND ATHLETICS.  PRINCE AVENUE CHRISTIAN SCHOOL INC  X  FROM PRESCHOOL THROUGH THE TWELFTH GRADES, PRINCE AVENUE CHRISTIAN SCHOOL OFFERS A COLLEGE PREPARATORY PROGRAM THAT PROMOTES TRADITIONAL CHRISTIAN VALUES, FOSTERS ACADEMICS, AND ACTIVELY PROMOTES CHARACTER TRAINING. ESTABLISHED IN 1978 AS A MINISTRY OF PRINCE AVENUE BAPTIST CHURCH, AND LOCATED ON A NEW CAMPUS IN BOGART, GEORGIA, PRINCE AVENUE SERVES STUDENTS IN THE ATHENS AREA, INCLUDING 15 SURROUNDING COUNTIES.PRINCE AVENUE CHRISTIAN SCHOOL IS FULLY ACCREDITED BY THE ASSOCIATION OF CHRISTIAN SCHOOLS INTERNATIONAL (ACSI), SOUTHERN ASSOCIATION OF COLLEGES AND SCHOOLS (SACS), AND MEMBERS OF THE GEORGIA INDEPENDENT SCHOOL ASSOCIATION (GISA). OUR CURRENT ACSI AND SACS ACCREDITATIONS COME UP FOR RENEWAL IN THE FALL OF 2015.\n",
      "EQUIP & NETWORK CHURCH LEADERS  SOUTH EAST ASIA - 200 PEOPLE CONNECTING THE SKILLS AND TALENTS OF PEOPLE, FORMING TEAMS OF RELIEF AND HUMANITARIAN EFFORTS USING MEDICAL AID, CONSTRUCTION, EDUCATION, CLEAN WATER AND ORPHANGES. IN NORTHERN THAILAND WORKING WITH FIVE DIFFERENT INDIGENOUS TRIBES BY DEVELOPING COFFEE GROWING, PURCHASING AND PLANTING LOCAL FRUIT TREES FOR CULTIVATION AND PRODUCTION.  GLOBAL GATEWAY NETWORK  169550\n",
      "Richmond County Medical Society Project Access Inc  The Organization's mission is to promote services to patients, and promote effective patient care, staff development, and program development.  X  Promoting services to patients, and promoting effective patient care, staff development, and program development.\n",
      "YOUTH AND COMMUNITY DEVELOPMENT: A COMBINATION OF MAINTENANCE AND POETRY PROGRAMS ALONG WITH A SERVICE PROJECT THAT ALLOWS THE YOUTH TO ACHIEVE ACADEMIC GOALS, LEARN JOB READINESS AND HOUSEHOLD RESPONSIBILITIES, AND TEACHES THEM THE IMPORTANCE OF PHYSICAL ACTIVITIES.  TO PROVIDE ECONOMICALLY DISADVANTAGED IN AND OUT-OF-SCHOOL AGE YOUTH WITH WORKFORCE DEVELOPMENT PROGRAMS IN A HEALTHY COMPETITIVE ENVIRONMENT, FOCUSING ON A CULTURE OF EDUCATION, INTERDEPENDENCE, LEADERSHIP, PARTNERSHIPS, AND FITNESS.  X  BED STUYS PROJECT RE-GENERATION INC\n",
      "[('services', 3176), ('program', 3119), ('health', 3013), ('programs', 2797), ('support', 2705), ('school', 2357), ('foundation', 2278), ('organization', 2246), ('education', 2145), ('care', 2072), ('-', 1972), ('public', 1928), ('provides', 1873), ('students', 1870), ('low', 1715), ('mission', 1712), ('center', 1708), ('income', 1674), ('children', 1668), ('youth', 1635)]\n",
      "~~~~~~~~~~~~~~~~~~~~\n",
      "8\n",
      "3504\n",
      "OUTREACH INSTITUTE FOR GENDER STUDIES\n",
      "  X  INTERNATIONAL CULTURAL EDUCATIONAL ASSOC\n",
      "MISSIONARY CHURCH INTERNATIONAL INCORPORATED\n",
      "TOASTMASTERS INTERNATIONAL\n",
      "Facilitate the receipt and disbursement of charitable contributions to gospel missions of the Apostolic Faith.  We disburse contributions to various religious and chartitable missions activities and projects as approved by our executive committee.  International Apostolic Missions  X\n",
      "[('fire', 128), ('fighters', 119), ('workers', 117), ('society', 111), ('aerospace', 88), ('united', 84), ('delta', 81), ('kappa', 81), ('gamma', 80), ('optimist', 70), ('union', 66), ('aglow', 61), ('alpha', 55), ('fraternity', 55), ('phi', 53), ('machinists', 48), ('order', 46), ('education', 44), ('girls', 43), ('america', 42)]\n",
      "~~~~~~~~~~~~~~~~~~~~\n",
      "9\n",
      "3597\n",
      "MUSTARD SEED MINISTRIES\n",
      "CLARK COUNTY HIGH TECHNOLOGY & COMMUNITY COUNCIL\n",
      "  X  KRIMSON COMMUNITY FOUNDATION\n",
      "STANDARD BIBLE MINISTRIES\n",
      "HOPE COMMUNITY DEVELOPMENT AND NONPROFIT HOUSING CORPORATION\n",
      "[('center', 218), ('school', 208), ('royal', 203), ('students', 157), ('development', 153), ('support', 142), ('international', 135), ('michigan', 131), ('services', 125), ('outreach', 123), ('christian', 116), ('full', 110), ('corporation', 107), ('education', 97), ('parents', 97), ('county', 96), ('council', 89), ('arch', 88), ('teachers', 88), ('youth', 86)]\n",
      "~~~~~~~~~~~~~~~~~~~~\n",
      "10\n",
      "13861\n",
      "  INNER ASIAN CONSERVATION INC  Office Expenses\n",
      "FINGER LAKES BRONZE INC\n",
      "BERKSHIRE SPUR CHINESE SHAR PEI CLUB INC\n",
      "IMPACT PARTNERS INC\n",
      "JIM SIMPSON MEMORIAL SCHOLARSHIP FUND INC\n",
      "[('ministries', 522), ('center', 492), ('society', 473), ('fund', 465), ('city', 465), ('community', 451), ('county', 406), ('united', 404), ('friends', 374), ('states', 333), ('league', 290), ('kiwanis', 266), ('foundation', 251), ('new', 249), ('american', 218), ('congress', 213), ('little', 211), ('bowling', 210), ('america', 207), ('youth', 200)]\n",
      "~~~~~~~~~~~~~~~~~~~~\n",
      "11\n",
      "6965\n",
      "GUT TENNIS ASSOCIATION INC\n",
      "CEDAR FIRE AND RESCUE ASSOCIATION INC\n",
      "REO TOWN COMMERCIAL ASSOCIATION\n",
      "SUNSET WOODS ASSOCIATION  PROVIDE RESIDENTIAL RENTAL FACILITIES WITHIN THE CITY OF HIGHLAND PARK, ILLINOIS FOR SENIOR CITIZENS OF LOW AND MODERATE INCOME.  X\n",
      "ROCKLAND COUNTY COLUMBUS ASSOCIATION INC\n",
      "[('civil', 409), ('national', 391), ('county', 312), ('michigan', 262), ('school', 213), ('alumni', 203), ('jewish', 201), ('america', 156), ('youth', 155), ('retired', 152), ('lake', 150), ('state', 150), ('chapter', 132), ('american', 124), ('georgia', 114), ('area', 110), ('united', 105), ('washington', 103), ('services', 102), ('valley', 102)]\n"
     ]
    }
   ],
   "source": [
    "clustered_missions = {}\n",
    "for label, ein in zip(labels, sorted_nfps):\n",
    "    if label not in clustered_missions:\n",
    "        clustered_missions[label] = [missions[ein]]\n",
    "    else:\n",
    "        clustered_missions[label].append(missions[ein])\n",
    "\n",
    "word_counts = {}\n",
    "for label, stmts in clustered_missions.items():\n",
    "    print('~' * 20)\n",
    "    print(label)\n",
    "    print(len(stmts))\n",
    "    word_counts[label] = Counter(\n",
    "        [word.lower() for stmt in stmts for word in stmt.split()\n",
    "         if word.lower() not in custom_stopwords]\n",
    "    )\n",
    "    print('\\n'.join(stmts[:5]))\n",
    "    print(word_counts[label].most_common(25)[-20:])"
   ]
  },
  {
   "cell_type": "markdown",
   "metadata": {},
   "source": [
    "## Apply tags, informed by the clustering\n",
    "\n",
    "Not sure whether the time it took to cluster was worth it.\n",
    "We did get things like music grouped together, financial/scholarship organizations together, and types of medical organizations grouped together, but I think I could have figured that out without clustering. The top-scoring tokens help with choosing phrases to match to the tags, thought.\n",
    "\n",
    "From comments in the [pitch document][bundlekind-pitch]:\n",
    "\n",
    ">We should align to an agreed upon core set of issues across the network, and stick to that. We've sort of been trying to align to the issues Code Corps has in their tool, but we should also talk to groups like Brand New Congress, Issue Voter, and any others with issue categories.\n",
    "\n",
    "\n",
    "[bundlekind-pitch]: https://docs.google.com/document/d/1KEC3JhaJlIf7heexA8LtSaCuTGABYtvu_iRKC-Y0SLk"
   ]
  },
  {
   "cell_type": "code",
   "execution_count": 14,
   "metadata": {
    "collapsed": false
   },
   "outputs": [],
   "source": [
    "tags = dict(\n",
    "    religious=['religi', 'christ', 'jesus', 'prayer', 'god', 'church', 'pastor', 'mission', 'mosque',\n",
    "               'temple', 'abraham', 'faith', 'bibl', 'spiritual', 'meditation',\n",
    "               'minist', 'jewish', 'hebrew', 'salvation', 'divin', 'holy', 'eternity',\n",
    "               'catholic', 'sikh', 'buddhist', 'hindu', 'bahai', 'islam', 'hope', 'jain', 'atheis'],\n",
    "    youth=['youth', 'child', 'kid', 'tot', 'camp', 'campus', 'play', 'motiv', 'girl',\n",
    "           'boy', 'student', 'scout', '4h', 'mentor', 'minor', 'troop'],\n",
    "    family=['family', 'husband', 'wive', 'wife', 'parent', 'marriage'],\n",
    "    women=['women', 'woman', 'girl', 'ladies', 'daughter'],\n",
    "    gender=['gender', 'lgbt'],\n",
    "    sports=['sport', 'ath', 'fitness', 'hike', 'hiking', 'ball', 'little league', 'pop warner',\n",
    "            'ski', 'skate', 'snow', 'rifle', 'hunt', 'fish', 'run', 'cycle', 'bike', 'swim',\n",
    "            'equestrian', 'ice rink', 'tennis', 'hunt', 'bowling', 'gymnast', 'judo', 'soccer',\n",
    "            'karate', 'kung', 'taek', 'yoga', 'rodeo', 'wrestl', 'double dutch',\n",
    "            'lacrosse', 'budo', 'backpack'],\n",
    "    education=['teach', 'educ', 'pta', 'learn', 'student', 'study', 'school',\n",
    "               'grade', 'alumni', 'university', 'college', 'school', 'institute',\n",
    "               'booster', 'scholar', 'academy', 'elementary',\n",
    "               'literacy', 'library', 'toastmaster', 'debate', 'museum', 'planetarium'],\n",
    "    health=['health', 'counseling', 'mental', 'medical', 'medicine', 'hospital', 'clinic',\n",
    "            'doctor', 'nurse', 'parenthood', 'cancer', 'hospice', 'terminal', 'care',\n",
    "            'red cross'],\n",
    "    arts=['art', 'perform', 'choir', 'sing', 'choral', 'adelines', 'symphony',\n",
    "          'orchest', 'danc', 'choreogra',\n",
    "          'music', 'jazz', 'band', 'marching', 'ensemble', 'theat', 'movie',\n",
    "          'film', 'cinema', 'poetry', 'poem', 'writ', 'paint', 'sculpt', 'ensemble',\n",
    "          'cultural', 'literature', 'opera', 'broadway', 'production'],\n",
    "    employment=['employm', 'train', 'vocation', 'job', 'work', 'skill'],\n",
    "    nature=['nature', 'beautiful', 'animal', 'pet', 'horse', 'rescue', 'marine',\n",
    "            'green', 'nature', 'tree','arbor', 'preserve', 'conserv', 'wolf',\n",
    "            'eagle', 'outdoor', 'beach', 'trail', 'endangered', 'coast',\n",
    "            'garden', 'park', 'mountain', 'lake', 'sanctuary', 'energy',\n",
    "            'canal', 'creek'],\n",
    "    rehabilitation=['prison', 'rehab', 'transitional house'],\n",
    "    addiction=['addiction', 'drug', 'alcohol', 'aaa', 'overdose'],\n",
    "    funding=['fund', 'foundation', 'charit', 'trust', 'invest', 'income', 'scholarship',\n",
    "             'fellowship', 'financ', 'capital', 'gift'],\n",
    "    media=['media', 'broadcast', 'telev', 'tv', 'radio', 'news', 'speech', 'publish',\n",
    "           'publicat'],\n",
    "    military=['veteran', 'vets', 'vfw', 'war', 'soldier', 'military', 'army', 'navy', 'guard',\n",
    "              'force', 'squadron', 'battalion', 'corps'],\n",
    "    elderly=['senior', 'home care', 'elderly', 'adult', 'retire', 'dementia', 'grandma', 'grandpa'],\n",
    "    poverty=['poverty', 'poor', 'homeless', 'kitchen', 'food', 'pantry', 'low income',\n",
    "             'habitat', 'thrift', 'goodwill', 'charity', 'need'],\n",
    "    professional=['profession', 'union', 'worker', 'nurse', 'doctor', 'police', 'sheriff', 'fire',\n",
    "                  'ist', 'bar ass', 'cemetery', 'pilot', 'commerce', 'employee',\n",
    "                  'engineer', 'users', 'development', 'trade', 'barber', 'cosmetic',\n",
    "                  'opportun', 'management', 'economic'],\n",
    "    advocacy=['advocacy', 'lawyer', 'legal', 'defense', 'liberty', 'liberties', 'civil'],\n",
    "    social=['social', 'daughter', 'son', 'brother', 'sister', 'men', 'women',\n",
    "            'riders', 'motorcy', 'deaf', 'blind', 'immigr', 'refugee', 'association', 'assn',\n",
    "           'family', 'community', 'neighbor', 'order', ],\n",
    "    # Omit some greek letters because they're common subcomponents of other words\n",
    "    greek=['fraternity', 'sorority', 'beta', 'gamma', 'delta', 'epsilon',\n",
    "           'zeta', 'eta', 'theta', 'iota', 'kappa', 'lambda', 'xi', 'omicron',\n",
    "           'rho', 'sigma', 'tau', 'upsilon', 'phi', 'chi', 'psi', 'omega'],\n",
    "    first_peoples=['tribe', 'iroquois', 'cherokee', 'shawnee', 'teepee', ],\n",
    "    charitable=['charit', 'kiwanis', 'rotary', 'legion', 'lodge', 'mason', 'jaycee',\n",
    "            'lions', 'elks', 'optimist', 'moose', 'shriner', 'human', 'heritage', 'father',\n",
    "            'mother', 'association', 'assoc', 'assn', 'service', 'club', 'society',\n",
    "            'friend', 'knight', 'beautiful'],\n",
    "    politics=['politi', 'campaign', 'vote', 'petiti', 'activis', 'grassroot', 'patriot', 'progressive'],\n",
    "    farm=['farm', 'barn', 'agriculture', 'biofuel', 'ethanol'],\n",
    "    technology=['tech', 'code', 'programming', 'computer', 'biofuel',\n",
    "                'entrepreneur', 'enegy', 'advanced', 'future'],\n",
    "    \n",
    ")"
   ]
  },
  {
   "cell_type": "code",
   "execution_count": 15,
   "metadata": {
    "collapsed": false
   },
   "outputs": [],
   "source": [
    "tagged_missions = {}\n",
    "unmatched = 0\n",
    "no_mission = 0\n",
    "for ein, mission in missions.items():\n",
    "    if len(ein) == 0:  # Skipp the \n",
    "        continue\n",
    "    tagged_missions[ein] = []\n",
    "    lower_mission = mission.lower()\n",
    "    if len(lower_mission) == 0:\n",
    "        no_mission += 1\n",
    "        continue\n",
    "    for tag, matchers in tags.items():\n",
    "        for m in matchers:\n",
    "            if m in lower_mission:\n",
    "                tagged_missions[ein].append(tag)\n",
    "                break\n",
    "    if len(tagged_missions[ein]) == 0:\n",
    "        unmatched += 1"
   ]
  },
  {
   "cell_type": "code",
   "execution_count": 16,
   "metadata": {
    "collapsed": false
   },
   "outputs": [
    {
     "name": "stdout",
     "output_type": "stream",
     "text": [
      "10707 out of 116802 missions remain unmatched\n",
      "26 missions have no statement at all\n",
      "Done.\n",
      "Tagged files in:\n",
      "\tdata/tagged_eins/MT/Sheridan.json\n",
      "Tags in:\n",
      "\tdata/tagged_eins/all_tags.yml\n"
     ]
    }
   ],
   "source": [
    "import json\n",
    "import yaml\n",
    "\n",
    "msg = '{} out of {} missions remain unmatched'\n",
    "print(msg.format(unmatched, len(tagged_missions)))\n",
    "print('{} missions have no statement at all'.format(no_mission))\n",
    "\n",
    "\n",
    "# Make all directories if they don't exist\n",
    "def setup_path(directory):\n",
    "    if not os.path.exists(directory):\n",
    "        os.makedirs(directory)\n",
    "\n",
    "\n",
    "# Write JSON objects containing the EINS and tags to file.\n",
    "# Directory structure:\n",
    "#   . tagged_eins\n",
    "#   |-- <state-abbr>\n",
    "#     |-- <city>.json\n",
    "directory = os.path.join('data', 'tagged_eins')\n",
    "setup_path(directory)\n",
    "for state, city_lookups in ein_state_city.items():\n",
    "    subdir = os.path.join(directory, state)\n",
    "    setup_path(subdir)\n",
    "    for city, selected_eins in city_lookups.items():\n",
    "        eins_destination = os.path.join(subdir, city + '.json')\n",
    "        tagged_subset = dict(\n",
    "            (k, v) for k, v in tagged_missions.items()\n",
    "            if k in selected_eins\n",
    "        )\n",
    "        with open(eins_destination, 'w') as outfile:\n",
    "            outfile.write(json.dumps(tagged_subset))\n",
    "\n",
    "\n",
    "# Save all of the tags\n",
    "# Use YAML format so that non-coders can edit the tags list\n",
    "tags_destination = os.path.join(directory, 'all_tags.yml')\n",
    "with open(tags_destination, 'w') as outfile:\n",
    "    yaml.dump(tags, outfile, default_flow_style=False)\n",
    "\n",
    "\n",
    "print('Done.\\nTagged files in:\\n\\t{}'.format(eins_destination))\n",
    "print('Tags in:\\n\\t{}'.format(tags_destination))"
   ]
  },
  {
   "cell_type": "markdown",
   "metadata": {},
   "source": [
    "## Count how many of each tag we have"
   ]
  },
  {
   "cell_type": "code",
   "execution_count": 17,
   "metadata": {
    "collapsed": false
   },
   "outputs": [
    {
     "name": "stdout",
     "output_type": "stream",
     "text": [
      "social          41% (47562)\n",
      "charitable      38% (44199)\n",
      "funding         29% (33861)\n",
      "professional    27% (31565)\n",
      "education       26% (29897)\n",
      "arts            22% (25887)\n",
      "greek           18% (20979)\n",
      "youth           14% (16884)\n",
      "religious       14% (15987)\n",
      "health          13% (15638)\n",
      "sports          11% (12823)\n",
      "nature          10% (11896)\n",
      "employment      10% (11745)\n",
      "poverty          8% (9072)\n",
      "family           7% (8109)\n",
      "military         7% (7662)\n",
      "elderly          5% (5569)\n",
      "technology       4% (4422)\n",
      "women            3% (3864)\n",
      "media            3% (2948)\n",
      "advocacy         2% (2461)\n",
      "politics         2% (1879)\n",
      "rehabilitation   1% (1231)\n",
      "farm             1% (1025)\n",
      "addiction        1% (739)\n",
      "gender           0% (267)\n",
      "first_peoples    0% (118)\n"
     ]
    }
   ],
   "source": [
    "tag_counts = Counter(\n",
    "        [tag for tag_list in tagged_missions.values()\n",
    "         for tag in tag_list]\n",
    "    )\n",
    "\n",
    "total_missions = len(tagged_missions)\n",
    "for entry in tag_counts.most_common():\n",
    "    tag, count = entry\n",
    "    print('{:<14}'.format(tag), end='  ')\n",
    "    print('{:2.0f}% ({})'.format(100 * count / total_missions, count))"
   ]
  },
  {
   "cell_type": "markdown",
   "metadata": {},
   "source": [
    "## Show some remaining unlabeled mission statements"
   ]
  },
  {
   "cell_type": "code",
   "execution_count": 18,
   "metadata": {
    "collapsed": false
   },
   "outputs": [
    {
     "name": "stdout",
     "output_type": "stream",
     "text": [
      "POLISH NATIONAL ALLIANCE OF THE UNITED STATES OF NA\n",
      "  DE SALES SOUTHWEST PROVINCE INC  X\n",
      "WHATCOM COUNTY POMONA GRANGE NO 6\n",
      "  X  PERCUSSIA\n",
      "  GALLANT CHANCE RANCH INC  X\n",
      "A BETTER BLASDELL\n",
      "JONES BENEFIT INC\n",
      "NYLON FUSION COLLECTIVE INC\n",
      "ONE TO ONE\n",
      "COLONIAL DAMES OF AMERICA\n",
      "NORTHWEST BLOODHOUNDS\n",
      "COLLINSVILLE TEPEE INC\n",
      "  ROUNDING  MINNIE HETRICK TUW FBO ST JACOBS CH\n",
      "SAVE THE PECONIC BAYS INC\n",
      "ADIRONDACK PIPES AND DRUMS INCORPORATED\n",
      "SANGAM PLACE\n",
      "WINGS\n",
      "  Adirondack Live Steamers Inc  X\n",
      "TEENS FOR TEENS\n",
      "  X  Stockbridge Boiler Room\n",
      "Northwest Lymphedema Center  26499  \n",
      "LET IT BE US\n",
      "HAITIAN DOMINICAN GOOD SAMARITAN\n",
      "STILLPOINT AT BECKSIDE\n",
      "LIFEVINE INC\n",
      "INDEPENDENT ZALESZCZYKER KRANKEN UNTERSHTITSUNGS VEREIN\n",
      "  NEW YORK CITY H2O  X\n",
      "  X  ITHACA FESTIVAL INC\n",
      "AOAC INTERNATIONAL\n",
      "  EXPENSES  BLUEGRASS FOR THE NEXT GENERATION PROJECT INC\n",
      "THE INTERNATIONAL JUSTUS CORPORATION\n",
      "LATINO RESOURCES NFP\n",
      "ALOHA NOBLEHOUSE INC\n",
      "  SUPPLIES FOR DREAMS INC  X\n",
      "  PRESERVATION CASCADE INC  X\n",
      "LES LIVE EVERY SECOND    NONE\n",
      "HERRIN AREA UNITED WAY INC\n",
      "VOITURE NATIONALE LA SOCIETE DES 40 HOMMES ET 8 CHEVAUX\n",
      "780 WA LOC SPOKANE CTY SCH BUS DRVR\n",
      "ALTRUSA INTERNATIONAL INC\n",
      "COSTUMES AND CULTURE RESEARCH INC    X\n",
      "POLISH HIGHLANDERS ALLIANCE IN AMERICA\n",
      "X  HAZINGPREVENTIONORG  EMPOWERING PEOPLE TO PREVENT HAZING\n",
      "PLANT BASED NUTRITION SUPPORT GROUP\n",
      "  FLY WITH THE OWLS INC  X\n",
      "CHANGING INEQUALITY\n",
      "NORTHERN DIVISION FREESTLYE\n",
      "WORLD OUTSIDE MY SHOES\n",
      "  X  ASTRONOMICAL LEAGUE\n",
      "MACOMB METS\n",
      "  GAS  FANEROS INC\n",
      "COOLWATER PROJECTS INC\n",
      "YPO FORUM\n",
      "EMPOWERED FAMILIES INC\n",
      "  JAMESTOWN BABE RUTH WORLD SERIES COMMITEE INC  X\n",
      "SEED PROVIDERS\n",
      "  PERAKONIA INC  7430\n",
      "HERMANAS SPOKANE\n",
      "AKIRINJA CORP\n",
      "TRINITY HOME\n",
      "  BEYOND THE BOROUGHS INC  X\n",
      "UNITED COMMERCIAL TRAVELERS OF AMERICA\n",
      "SPRING BREAK IN HAITI\n",
      "SKYHAWKS PTSO\n",
      "  3 MINUTES OUT INC  X\n",
      "THI-10 INC    X\n",
      "FERN BLUFF SQUARES\n",
      "  X  REBUILD FOR BOSNIA NFP\n",
      "AND FURNITURE FOR ALL INC\n",
      "UNIVERSAL DESIGN ALLIANCE INC\n",
      "BEULAHLAND MANOR CORP\n",
      "PIROUETTE CORPORATION NFP\n",
      "  EVERY HOUSE HAS A DOOR NFP  X\n",
      "KALASTAR\n",
      "TEABOK CORP\n",
      "ETERNAL ANCHOR\n",
      "NATIONAL LEAGUE OF POSTMASTERS OF THE UNITED STATES\n",
      "  X  NYC BASKET BRIGADE INC\n",
      "  X  WORLD AYYAPPA SEVA TATWASAMAJ\n",
      "DELT-NIC INC\n",
      "  X  Well Being Project Inc\n",
      "  X  CELEBRATE CLINTON INC\n",
      "RENAISSANCE STAND\n",
      "MEA-MFT\n",
      "EASTERN WASHINGTON CHAPTER INDEPENDENT ELECTRICAL CONTRACTORS\n",
      "  TRAVIS FOURTH OF JULY CELEBRATION CMTE INC  X\n",
      "OUT THERE ADVENTURES\n",
      "PREVENT THE BITE INC\n",
      "ANGLICAN THEOLOGICAL REVIEW    X\n",
      "  X  SERVE WITH LOVE TODAY INC\n",
      "BABYWEARING INTERNATIONAL INC\n",
      "OBSTETRICAL AND GYNECOLOGICAL ASSEMBLY OF STHRN CALIFORNIA INC\n",
      "COLES COUNTY CRIME STOPPERS NP\n",
      "  KEREN YEHUDIS  X\n",
      "CUT BANK WWII AIRMAN MEMORIAL\n",
      "SAVE INC\n",
      "AHOWI FOCUS GROUP INCORPORATED\n",
      "HESED INC\n",
      "Darius Goes West Inc    X\n",
      "CNA CHANNEL NORTH AFRICA INC\n",
      "  2ND HAND 2ND CHANCE\n",
      "RESPONSIVE LEADERSHIP INITIATIVE\n",
      "  X  BELIEVE IN THE LIGHT TRANSITIONAL H\n",
      "MARGRETS VOICE INC\n",
      "QUAIL UNLIMITED INC\n",
      "ONTARIO HOSE CO 3\n",
      "LENORE BASIN CORPORATION\n",
      "TROUT UNLIMITED\n",
      "LES CREATIVE PEOPLE IN ACTION INC\n",
      "  MIRIAM E HAHN TA LUTH HOME  ROUNDING\n",
      "  Hospeace House Inc  X\n",
      "MILL A WATER COMPANY INC\n",
      "  X  NO GREATER CALLING\n",
      "  INTA INC  X\n",
      "GUITARS UNDER THE STARS FETE INCORPORATED NFP\n",
      "68803 QUEENS COLOMBIA\n",
      "SOUL TO SOLES\n",
      "TREASURED BITS\n",
      "WESTERN NEW YORK HONEY PRODUCERS INC\n",
      "NWC PROJECT TEAM FOR CHOA\n",
      "  X  Spay Alter Vaccinate Every Stray Inc\n",
      "LIFE RESOURCES OF GEORGIA INC\n",
      "CINE INFORMATION INC\n",
      "ATLANTA ACCUEIL\n",
      "STORK SUPPORT\n",
      "  HERO INC  X\n",
      "CHAPLAINCY ADVISORY GROUP\n",
      "  ONE OF US INC  X\n",
      "FAMILIES AGAINST NARCOTICS INC\n",
      "PINE PLAINS UNITED INC\n",
      "  IDENTIFY YOUR DREAM CORPORATION  X\n",
      "GR - GLOBAL RESOURCES INC\n",
      "FLORENCE FLUKE TW FBO BETHANY VILLAGE    ROUNDING\n",
      "LILYS FROG PAD INC\n",
      "ST HENRY CONFERENCE\n",
      "  X  APNA INC\n",
      "UNITED TO RESTORE FREEDOM ACTION\n",
      "  X  CASTLE ISLAND BILINGUAL MONTESSORI\n",
      "  VANDALIA FIELD OF DREAMS NFP  X\n",
      "WOOL-AID INC\n",
      "GOTTSCHEER MAENNER CHOR\n",
      "  Times Up Inc  X\n",
      "  X  JOURNEY GRAND RAPIDS\n",
      "Besac Inc\n",
      "Hamburg Oktoberfest    X\n",
      "  NORTH EAST QUEENS JCC INC  X\n",
      "  WEBSITE  UP-WINGERS INC\n",
      "CLARK COUNTY FOLK FESTIVAL\n",
      "LINKS INC\n",
      "  X  KRAT & CO\n",
      "  197044  VOICE OF VASHON\n",
      "FORT VANCOUVER CHAPTER SAR\n",
      "  MAAWS FOR GLOBAL WELFARE INC  X\n",
      "  NATIONS ABLAZE INTERNATIONAL  X\n",
      "REALIZE IMPACT\n",
      "SHOE HEALS\n",
      "A BETTER SHELTER INC\n",
      "CELEBRATE THE CONSTITUTION\n",
      "OUTREACH PROGRAM FOR TORAH INC CO RABBI LERNER    X\n",
      "KAIROS FORUM\n",
      "SCARLETS SMILE    X\n",
      "CROYLE BEATTY TESTIMONIAL DINNER\n",
      "LONG ISLAND BLACK AMERICAN DAY COMMITTEE INC\n",
      "  161197  QUILTERS ANONYMOUS\n",
      "DEMOLAY INTERNATIONAL\n",
      "KALAMAZOO CITIZENS COALITION AGAINS T PORNOGRAPAY\n",
      "MEA-MFT\n",
      "  61870  Seattle-King County Disaster Team\n",
      "LIGHT OF THE TABERNACLE INC\n",
      "ROCHESTER SPEED SKATING TEAM INC    X\n",
      "  RIBBLET TW ALLEGHENY LUTH\n",
      "CENTER FOR SUSTAINABLE RURAL COMMUNITIES INC\n",
      "THE DAMASCUS ROAD INC    X\n",
      "  BEDS FROM BRIAN INC  X\n",
      "HIRE-NATIONAL INC\n",
      "  VIRGINIA MARY SULLIVAN BENZ FOUNDAT\n",
      "  TRAUMA AND RESILIENCY RESOURCES INC  X\n",
      "JAPANESE AMERICAN CITIZENS LEAGUE\n",
      "  ROUNDING  CHARLES W DIEHL JR TA\n",
      "YAKIMA VALLEY QUILTERS GUILD\n",
      "SAVING PEOPLES LIVES\n",
      "WASHINGTON STATE GRANGE\n",
      "  PINE HILL HOSE COMPANY NO 5 INC\n",
      "GREAT DESTINIES\n",
      "NEXT GENERATION OUTREACH CORPORATION\n",
      "ALTRUSA INTERNATIONAL INC\n",
      "  X  COALITION IN SUPPORT OF ECCLESIA DEI LTD\n",
      "POLIO OUTREACH OF WASHINGTON\n",
      "COMMIT TED INC\n",
      "SCOTT ACTIVITY CENTER\n",
      "  X  Rebirth Inc\n",
      "  AIG SECURITIES LITIGATION  THE ERWIN & GERTRUDE DAVENPORT PRIV FDN\n",
      "  EGYPTIAN AMERICAN ALLIANCE INC  X\n",
      "HURON TOWNSHIP GOODFELLOWS\n",
      "HEALING ROOMS OF BUFFALO-NIAGARA\n",
      "COLUMBIAN COUNCIL NO 2191  \n",
      "USAF SUPPORT GROUP\n",
      "STOP THE D O O M INC\n",
      "VOITURE NATIONALE LA SOCIETE DES 40 HOMMES ET 8 CHEVAUX\n",
      "ETERNALLY BUILDING INC\n"
     ]
    }
   ],
   "source": [
    "counter = 0\n",
    "iterator = iter(tagged_missions.items())\n",
    "while counter < 200:\n",
    "    ein, tag_list = next(iterator)\n",
    "    if len(tag_list) == 0:\n",
    "        print(missions[ein])\n",
    "        counter += 1"
   ]
  }
 ],
 "metadata": {
  "kernelspec": {
   "display_name": "Python 3",
   "language": "python",
   "name": "python3"
  },
  "language_info": {
   "codemirror_mode": {
    "name": "ipython",
    "version": 3
   },
   "file_extension": ".py",
   "mimetype": "text/x-python",
   "name": "python",
   "nbconvert_exporter": "python",
   "pygments_lexer": "ipython3",
   "version": "3.5.2"
  }
 },
 "nbformat": 4,
 "nbformat_minor": 0
}
