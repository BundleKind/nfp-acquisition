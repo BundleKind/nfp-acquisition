{
 "cells": [
  {
   "cell_type": "markdown",
   "metadata": {},
   "source": [
    "# Cluster the mission statements of the nonprofits\n",
    "\n",
    "Take the not-for-profit organization name and/or their mission statement from  Form 990/Form 990N data and identify natural groupings to help categorize them.\n",
    "\n",
    "For this, we only used charities in GA, IL, MI, MT, and NY. (And already it takes a while to run.)"
   ]
  },
  {
   "cell_type": "markdown",
   "metadata": {},
   "source": [
    "## Setup"
   ]
  },
  {
   "cell_type": "code",
   "execution_count": 1,
   "metadata": {
    "collapsed": true
   },
   "outputs": [],
   "source": [
    "%matplotlib inline\n",
    "import csv\n",
    "import glob\n",
    "import os\n",
    "import re\n",
    "import matplotlib.pyplot as plt\n",
    "import numpy as np\n",
    "\n",
    "from collections import Counter\n",
    "from nltk.stem.porter import PorterStemmer\n",
    "from nltk.corpus import stopwords\n",
    "\n",
    "plt.rcParams['figure.figsize'] = (12, 7)"
   ]
  },
  {
   "cell_type": "markdown",
   "metadata": {},
   "source": [
    "## Load the data\n",
    "Map the organization names and (if they exist) mission statements to the Nonprofit's Employer ID Number (EIN). The goal is to group similar organizations."
   ]
  },
  {
   "cell_type": "code",
   "execution_count": 226,
   "metadata": {
    "collapsed": false
   },
   "outputs": [],
   "source": [
    "# Go through all of the entries from all of the Form 990 tax forms.\n",
    "# We want\n",
    "#  - the EIN number (to identify the business)\n",
    "#  - their business name (because sometimes that's all there is)\n",
    "#  - their mission statement(s)\n",
    "state_paths = glob.glob(os.path.join('data', 'form990', '*'))\n",
    "nfp_names = {}  # Map the EIN number to the business name\n",
    "missions = {}  # Map the EIN number to the mission statement(s)\n",
    "\n",
    "# We will also want a future lookup of state + city --> EIN\n",
    "ein_state_city = {}\n",
    "\n",
    "def get_city(path):\n",
    "    return os.path.basename(path)[:-4]\n",
    "\n",
    "for dirname in state_paths:\n",
    "    cities_990 = glob.glob(os.path.join(dirname, '*'))\n",
    "    # Set up to collect all of the EINs in a given state and city.\n",
    "    state_abbr = os.path.basename(dirname)\n",
    "    ein_state_city[state_abbr] = {}\n",
    "\n",
    "    for fname in cities_990:\n",
    "        city = get_city(fname)\n",
    "        ein_state_city[state_abbr][city] = []\n",
    "        with open(fname) as infile:\n",
    "            rdr = csv.reader(infile, delimiter='\\t')\n",
    "            nfp_names_etc = [\n",
    "                (row[0], row[2], row[27], row[-1], row[-2])\n",
    "                for row in rdr\n",
    "            ]\n",
    "            nfp_names.update(dict(entry[:2] for entry in nfp_names_etc))\n",
    "            missions.update(dict(\n",
    "                    (entry[0], '  '.join(set(entry[1:])))  # remove duplicates\n",
    "                    for entry in nfp_names_etc\n",
    "            ))\n",
    "            ein_state_city[state_abbr][city].append(nfp_names_etc[0])"
   ]
  },
  {
   "cell_type": "markdown",
   "metadata": {},
   "source": [
    "## See a few of the entries"
   ]
  },
  {
   "cell_type": "code",
   "execution_count": 82,
   "metadata": {
    "collapsed": false,
    "scrolled": true
   },
   "outputs": [
    {
     "name": "stdout",
     "output_type": "stream",
     "text": [
      "('', '')\n",
      "('166050723', '  OTHER NON-ALLOCABLE EXPENSE -  WOLKERNIE CO-TR UA CHAR')\n",
      "('201873050', '  X  MONTANA POLICE PROTECTIVE ASSOCIATION FOUNDATION INC')\n",
      "('112368182', \"New Community Cinema Club Inc DBA Cinema Arts Centre  Victor Skolnick and Charlotte Sky founded the Centre in 1973 to create an alternative to the mainstream movie theaters and media that were then available on Long Island. The Centre presents an international array of films that explore diverse social, historical and cultural realities, and uses the power of film to expand the awareness and consciousness of the Long Island Community. The Centre operates in Huntington, New York. It is supported primarily through ticket sales, membership dues, and contribution and grant revenue.The Centre's core values are:Artistry: Creating a place where Long Islanders can experience the same level of cinematic artistry as audiences in major cities like New York, San Francisco, Los Angeles, Paris and Berlin.Egalitarianism: Making the best in American and international cinema available to all at reasonable prices and presented in a way that is accessible and unintimidating.Community: With their emphasis on single-family houses and reliance on automotive transportation, suburbs can be extremely isolating. Many new technologies have only exacerbated that situation. The Centre is committed to being a center that brings people together for genuine interaction and creates an authentic feeling of community.Inclusion: The Centre is a place where people of all races, classes, genders, sexual preferences and ethnic backgrounds will find images that reflect their lives and introduce them to those who are different.Education: Being an open forum for stimulating ideas and information.  X  The mission of the Cinema Arts Centre is to bring the best in cinematic artistry to Long Island and to use the power of film to expand the awareness and consciousness of our community.\")\n",
      "('582355072', 'The Place of Forsyth County Inc  WE DISTRIBUTE FOOD, THE MOST FUNDAMENTAL HUMAN NEED, SIX DAYS A WEEK TO RESIDEnTS IN NEED. NO HOMELESS PERSON OR RESIDENT WILL BE DENIED THIS BASIC SURVIVAL NEED. OUR SURPLUS FOOD PANTRY CONSISTS OF BREAD, DESSERTS, CANNED OR BOXED FOOD ITEMS, CRACKERS, COOKIES AND FRESH PRODUCE. DONATIONS ARE RECEIVED FROM AREA GROCERY STORES, MERCHANTS, LOCAL GARDENERS, SUBDIVISIONS, SCHOOLS, CHURCHES AND CARING INDIVIDUALS. WEDNESDAY NOON DAY MEALS ARE PREPARED AND SERVED BY SPONSORING GROUPS WITHIN THE COMMUNITY TO ENSURE RESIDENTS OF A HEALTHY AND WHOLESOME MEAL MID WEEK. THANKSGIVING FOOD BOXES ARE PROVIDED TO FAMILIES IN NEED WITH DONATED ITEMS TO PREPARE A HOLIDAY MEAL. FAMILIES ALSO RECEIVE A GIFT CARD FROM THE LOCAL GROCERY STORE TO ENABLE THEM TO BUY A MEAT FOR THEIR CELEBRATION DINNER. FOOD DISTRIBUTIONS ARE ALSO PROVIDED FOR EASTER AND CHRISTMAS. COLLABORATIONS WITHIN THE COMMUNITY AND WITH UNITED WAY FORSYTH ARE CRITICAL TO ENSURE THAT ADEQUATE RESOURCES ARE ON HAND SO THAT NO ONE IN OUR COMMUNTY SHOULD EVER GO HUNGRY.  X  THE MISSION OF THE PLACE IS TO HELP PEOPLE IN FORSYTH COUNTY WITH EMERGENCY BASIC NEEDS such as food, housing, utilities and medical expenses. OUR VISION IS A CARING AND COMPASSIONATE PLACE WHERE PEOPLE RECEIVE ASSISTANCE WITH BASIC NECESSITIES THAT ALLOW THEM TO SURVIVE WHILE WE ASSIST THEM TO FIND WAYS TO SUPPORT THEMSELVES INDEPENDENTLY. EACH ACTIVITY IS A CRITICAL COMPONENT IN AN EFFORT TO PREVENT DEPRIVATION AND SUFFERING. EACH CLIENT IS INTERVIEWED AND SUPPORTING DOCUMENTATION IS REVIEWED BY CASEWORKER TO JUSTIFY THE NEED PRESENTED. UPON ASSESSING THIS DATA A DETERMINATION IS MADE ON WHAT NEEDS, IF ANY, CAN BE EFFECTIVELY MET TO RESOLVE THEIR CRISIS SITUATION OR NEED FOR A MINIMAL PERIOD OF 30 DAYS. THE PLAN COULD INCLUDE FOOD, VOUCHER FOR CLOTHING, FINANCIAL ASSISTANCE WITH THE MOST PRESSING UTILITY OR HOUSING NEED AND REFERRAL(S) TO OTHER AGENCIES IN THE COMMUNITY.THE PURPOSE OF THE AGENCY IS TO ACQUIRE AND ADMINISTER FUNDS AND RESOURCES PROVIDED TO US FROM THE COMMUNITY TO ASS')\n"
     ]
    }
   ],
   "source": [
    "counter = 0\n",
    "iterator = iter(missions.items())\n",
    "while counter < 5:\n",
    "    print(next(iterator))\n",
    "    counter += 1"
   ]
  },
  {
   "cell_type": "markdown",
   "metadata": {},
   "source": [
    "## Continue by loading the 990N data"
   ]
  },
  {
   "cell_type": "code",
   "execution_count": 228,
   "metadata": {
    "collapsed": false
   },
   "outputs": [],
   "source": [
    "# Also go through the Form 990N tax forms.\n",
    "# We want\n",
    "#  - the EIN number (to identify the business)\n",
    "#  - their business name (there is no mission statement)\n",
    "state_paths = glob.glob(os.path.join('data', 'form990N', '*'))\n",
    "for dirname in state_paths:\n",
    "    state_abbr = os.path.basename(dirname)\n",
    "    if state_abbr not in ein_state_city:\n",
    "        ein_state_city[state_abbr] = {}\n",
    "    cities_990 = glob.glob(os.path.join(dirname, '*'))\n",
    "    for fname in cities_990:\n",
    "        city = get_city(fname)\n",
    "        if city not in ein_state_city[state_abbr]:\n",
    "            ein_state_city[state_abbr][city] = []\n",
    "        with open(fname) as infile:\n",
    "            rdr = csv.reader(infile, delimiter='\\t')\n",
    "            ein_to_name = dict((row[0], row[2]) for row in rdr)\n",
    "            nfp_names.update(ein_to_name)\n",
    "            # Missions too (use the name as the mission for 990Ns)...\n",
    "            missions.update(ein_to_name)\n",
    "            ein_state_city[state_abbr][city].extend(ein_to_name.keys())\n",
    "\n",
    "\n",
    "del missions['']  # There was an empty EIN somewhere"
   ]
  },
  {
   "cell_type": "markdown",
   "metadata": {},
   "source": [
    "## Group the Not-for-Profits by mission\n",
    "1. Tokenize using the NLTK and scikit-learn text tools\n",
    "2. Cluster using K-means\n",
    "3. Look at what the clusters are and try and distinguish common features"
   ]
  },
  {
   "cell_type": "code",
   "execution_count": 83,
   "metadata": {
    "collapsed": true
   },
   "outputs": [],
   "source": [
    "# The tokenizer will split out words to help autogenerate\n",
    "# 'tags' for the Nonprofit names/missions using the\n",
    "# Natural Language Toolkit\n",
    "custom_stopwords = stopwords.words('English') + [\n",
    "    'x', 'association', 'club', 'institute', 'consortium', 'group',\n",
    "    'incorporated', 'inc', 'llc', 'l3c', '&'\n",
    "]\n",
    "def tokenize(\n",
    "        phrase,\n",
    "        space_or_punct=re.compile(\"[\\s,;:!\\.]+\"),\n",
    "        stemmer=PorterStemmer(),\n",
    "        stopwords=stopwords.words(\"English\")):\n",
    "    split_phrase = space_or_punct.split(phrase.lower())\n",
    "    return set(stemmer.stem(word)\n",
    "               for word in split_phrase\n",
    "               if word not in stopwords and len(word))"
   ]
  },
  {
   "cell_type": "code",
   "execution_count": 55,
   "metadata": {
    "collapsed": true
   },
   "outputs": [],
   "source": [
    "#from scipy.cluster.hierarchy import linkage, dendrogram\n",
    "from sklearn.cluster import k_means\n",
    "from sklearn.feature_extraction.text import HashingVectorizer\n",
    "from sklearn.feature_extraction.text import TfidfVectorizer"
   ]
  },
  {
   "cell_type": "code",
   "execution_count": 84,
   "metadata": {
    "collapsed": false
   },
   "outputs": [],
   "source": [
    "sorted_nfps = sorted(missions.keys())\n",
    "token_matrix = HashingVectorizer(\n",
    "    tokenizer=tokenize,\n",
    "    n_features=150\n",
    ").transform([missions[ein] for ein in sorted_nfps])"
   ]
  },
  {
   "cell_type": "markdown",
   "metadata": {},
   "source": [
    "### Try multiple cluster sizes to find some categorization that levels off\n",
    "(This takes a really long time.)"
   ]
  },
  {
   "cell_type": "code",
   "execution_count": 86,
   "metadata": {
    "collapsed": true
   },
   "outputs": [
    {
     "name": "stdout",
     "output_type": "stream",
     "text": [
      "cluster size: 5\n",
      "cluster size: 6\n",
      "cluster size: 7\n",
      "cluster size: 8\n",
      "cluster size: 9\n",
      "cluster size: 10\n",
      "cluster size: 11\n",
      "cluster size: 12\n"
     ]
    }
   ],
   "source": [
    "mean_distances = {}\n",
    "for k in range(5, 13):\n",
    "    print('cluster size:', k)\n",
    "    mean_distances[k] = k_means(token_matrix, k)[-1]"
   ]
  },
  {
   "cell_type": "code",
   "execution_count": 87,
   "metadata": {
    "collapsed": false
   },
   "outputs": [
    {
     "data": {
      "image/png": "[encoded data removed]",
      "text/plain": [
       "<matplotlib.figure.Figure at 0x13344b048>"
      ]
     },
     "metadata": {},
     "output_type": "display_data"
    }
   ],
   "source": [
    "ax = plt.plot(keys, [mean_distances[k] for k in keys])\n",
    "__ = plt.suptitle(\n",
    "    'Average of total error given number of clusters',\n",
    "    fontweight='bold', fontsize=14)"
   ]
  },
  {
   "cell_type": "markdown",
   "metadata": {},
   "source": [
    "### Well, nothing bottomed out.\n",
    "Just pick a big number of clusters. Maybe I'll run the loop with more clusters later, but it takes over an hour."
   ]
  },
  {
   "cell_type": "code",
   "execution_count": 88,
   "metadata": {
    "collapsed": false
   },
   "outputs": [],
   "source": [
    "num_clusters = 12\n",
    "centers, labels, inertia =  k_means(token_matrix, num_clusters)"
   ]
  },
  {
   "cell_type": "code",
   "execution_count": 93,
   "metadata": {
    "collapsed": false
   },
   "outputs": [
    {
     "name": "stdout",
     "output_type": "stream",
     "text": [
      "~~~~~~~~~~~~~~~~~~~~\n",
      "0\n",
      "2326\n",
      "GREATER ROCHELLE AREA CHRISTIAN EDUCATORS\n",
      "PTO GEORGIA CONGRESS TATE PRIMARY\n",
      "A NEW START ON LIFE\n",
      "DEPARTMENT OF NEW YORK LADIES AUXILIARY TO THE VETERANS OF\n",
      "DEPARTMENT OF NEW YORK LADIES AUXILIARY TO THE VETERANS OF\n",
      "[('free', 480), ('accepted', 472), ('georgia', 322), ('teachers', 305), ('parents', 300), ('ladies', 239), ('area', 223), ('auxiliary', 213), ('illinois', 208), ('veterans', 195), ('michigan', 188), ('students', 135), ('foreign', 118), ('dept', 118), ('wars', 118), ('us', 95), ('department', 89), ('montana', 85), ('ptsa', 84), ('fund', 78)]\n",
      "~~~~~~~~~~~~~~~~~~~~\n",
      "1\n",
      "7946\n",
      "  MAINE JAZZ CAMP  X\n",
      "  X  SIETAR USA\n",
      "  ADIRONDACK CENTER FOR WRITING  X\n",
      "  MILLBROOK CSD EDUCATION FOUNDATION  X\n",
      "  X  3 ANGELS BROADCASTING MESSENGERS\n",
      "[('society', 384), ('housing', 380), ('fund', 372), ('county', 366), ('support', 360), ('provide', 289), ('organization', 280), ('public', 277), ('corporation', 263), ('youth', 254), ('development', 250), ('educational', 240), ('library', 216), ('new', 216), ('nfp', 203), ('students', 201), ('children', 191), ('american', 191), ('michigan', 190), ('charitable', 187)]\n",
      "~~~~~~~~~~~~~~~~~~~~\n",
      "2\n",
      "12890\n",
      "LULU VIOLET TEMPLE 1118\n",
      "  ATLAS PIPELINE PARTNERS  TSUNIS FAMILY FOUNDATION INC\n",
      "  EXCISE TAX REFUND  DANCING TIDES FOUNDATION INC C/O FLSV SETH STARR\n",
      "  MAAK FOUNDATION  DC FILING FEE\n",
      "  INVESTMENT & ADVISORY FEES  HUMAN GROWTH FOUNDATION\n",
      "[('bank', 774), ('expenses', 770), ('education', 752), ('filing', 742), ('county', 672), ('fee', 587), ('extension', 521), ('champaign', 476), ('charges', 466), ('income', 463), ('co', 411), ('investment', 401), ('tax', 344), ('unrealized', 301), ('educational', 256), ('community', 253), ('j', 245), ('receivable', 228), ('-', 225), ('none', 214)]\n",
      "~~~~~~~~~~~~~~~~~~~~\n",
      "3\n",
      "3005\n",
      "  FRIENDS OF OATLAND ISLAND  X\n",
      "TRICO AREA SUMMER YOUTH LEAGUE\n",
      "LAKESHORE YOUTH SOCCER LEAGUE\n",
      "CASCADE LITTLE LEAGUE\n",
      "KELLY'S HAVEN FOR FRIENDS AND ANIMAL RESCUE INC\n",
      "[('american', 188), ('public', 169), ('la', 167), ('youth', 155), ('various', 131), ('county', 127), ('community', 106), ('environmental', 104), ('green', 103), ('marine', 100), ('foundation', 95), ('corps', 94), ('new', 92), ('center', 87), ('support', 82), ('school', 81), ('women', 81), ('society', 80), ('education', 75), ('provide', 74)]\n",
      "~~~~~~~~~~~~~~~~~~~~\n",
      "4\n",
      "6214\n",
      "AMERICAN ASSOCIATION OF OTOLARYNGOLOGIST OF INDIAN HERITAGE\n",
      "HAITIAN AMERICAN CENTER FOR BUSINESS & ECON DEVELOP INC\n",
      "CHANGING LIVES AND TRANSFORMING COMMUNITIES PRIMARILY IN JAMAICA THROUGH EDUCATION AND TRAINING.  X  PROVIDES EDUCATION AND TRAINING OPPORTUNITIES IN US AND IN RURAL JAMAICAN COMMUNITIES. VOLUNTEERS FROM THE US TRAVEL TO THE ORGANIZATION'S FACILITIES IN RURAL JAMAICA. DURING THEIR VISIT VOLUNTEERS ASSISTIN PROVIDING HEALTH CARE, EDUCATION, AND SPIRITUAL SUPPORT TO THE LOCAL JAMAICAN COMMUNITY. THE FAITH BASED ORGANIZATION IS FOCUSED ON REDUCING POVERTY BY PROVIDING SUPPORT AND TEACHING SKILLS TO CREATE A MORE SELF SUSTANING LOCAL COMMUNITY IN JAMAICA.  AMERICAN CARIBBEAN EXPERIENCE INC\n",
      "CARLINVILLE RIFLE & PISTOL CLUB\n",
      "HIGHLAND MUSIC BOOSTER CLUB\n",
      "[('clubs', 757), ('auxiliary', 547), ('county', 427), ('employees', 399), ('state', 386), ('teachers', 385), ('post', 362), ('national', 350), ('municipal', 346), ('society', 316), ('revolution', 207), ('booster', 199), ('daughters', 163), ('rural', 122), ('veterans', 115), ('friends', 101), ('foundation', 99), ('exchange', 88), ('school', 86), ('womens', 83)]\n",
      "~~~~~~~~~~~~~~~~~~~~\n",
      "5\n",
      "13232\n",
      "  Office Expenses  INNER ASIAN CONSERVATION INC\n",
      "FINGER LAKES BRONZE INC\n",
      "BERKSHIRE SPUR CHINESE SHAR PEI CLUB INC\n",
      "IMPACT PARTNERS INC\n",
      "JIM SIMPSON MEMORIAL SCHOLARSHIP FUND INC\n",
      "[('affiliated', 550), ('ministries', 516), ('society', 482), ('york', 480), ('center', 466), ('fund', 460), ('community', 438), ('county', 382), ('city', 366), ('united', 330), ('states', 263), ('kiwanis', 263), ('state', 246), ('foundation', 231), ('congress', 213), ('bowling', 211), ('grange', 202), ('montana', 197), ('council', 196), ('phi', 189)]\n",
      "~~~~~~~~~~~~~~~~~~~~\n",
      "6\n",
      "23614\n",
      "SKOWHEGAN, PRIMARILY A SUMMER RESIDENCY PROGRAM FOR EMERGING VISUAL ARTISTS ESTABLISHED IN 1946, SEEKS EACH YEAR TO BRING TOGETHER A GIFTED AND DIVERSE GROUP OF INDIVIDUALS WHO HAVE DEMONSTRATED A COMMITMENT TO ART-MAKING AND INQUIRY TO CREATE THE MOST STIMULATING AND RIGOROUS ENVIRONMENT FOR A CONCENTRATED PERIOD OF ARTISTIC CREATION, INTERACTION AND GROWTH.SKOWHEGAN ALSO SPONSORS PROGRAMS IN NEW YORK CITY DURING FALL, WINTER AND SPRING TO FOSTER ITS MISSION AMONG ALUMNI AND THE VISUAL ARTS COMMUNITY.  SCHOOL OF PAINTING AND SCULPTURE ATTENDED BY 65 STUDENTS.  X  SKOWHEGAN SCHOOL OF PAINTING AND SCULPTURE INC\n",
      "THE MAIN IDEA, INC. MAINTAINS A PROGRAM FOR ECONOMICALLY DISADVANTAGED GIRLS AT CAMP WALDEN, DENMARK, MAINE. THE NON-PROFIT ORGANIZATION RUNS A CAMP FOR 10 DAYS AT CAMP WALDEN EACH SUMMER. IN 2015 THE CAMP SERVED 148 CHILDREN.  THE MAIN IDEA INC  X  THE MAIN IDEA PROVIDES ECONOMICALLY DISADVANTAGED GIRLS AGES 9 - 14 WITH A SLEEP-AWAY, SUMMER CAMP EXPERIENCE THAT BUILDS SELF-CONFIDENCE, PROMOTES LEADERSHIP SKILLS, AND CREATES A TRUSTING AND SECURE ENVIRONMENT WHERE CAMPERS CAN LEARN TO LIVE TOGETHER, SET NEW GOALS, AND ENJOY AS WELL AS SUSTAIN THE NATURAL SPLENDOR SURROUNDING THEM IN THE MAINE WOODS.\n",
      "THE ORGANIZATON IS A NATIONAL NETWORK OF LARGE ACADEMIC MEDICAL CENTERS AND HEALTH SYSTEMS COMMITTED TO QUALITY PATIENT CARE, MEDICAL EDUCATION AND RESEARCH.  ALLIANCE OF INDEP ACADEMIC MEDICAL CTRS  SHARING EXPERTISE AND RESOURCES TO PROMOTE INNOVATION IN MEDICAL SCHOOL EDUCATION AND RESEARCH AND PROVIDING A FORUM TO ADDRESS ISSUES OF INTEREST AND CONCERN TO THE ACADEMIC LEADERSHIP IN MEMBER INSTITUTIONS.  X\n",
      "Combination of process and content learning strategies facilitates more effective behavior change because content taught is related to activities that are relevant and motivating.The organization employ an experiential, hands-on approach to teach academic, employment, and personal-social competencies in the context of real-world themes, projects, and vocational clusters. Such contextualized learning makes content relevant and meaningful for students and increases their motivation to learn. They serve a wide array of learners, all of whom have in common their preference for learning by doing. In turn, this knowledge is applied to new situations where recently acquired skills are practiced while new ones are introduced.  Alternative education program for students with special needs. Serves students in grades 7 to 12, and is certified as a private school by the Maine Department of Education.  X  FUTURE BUILDERS SCHOOL ON THOMAS POND\n",
      "FROM PRESCHOOL THROUGH THE TWELFTH GRADES, PRINCE AVENUE CHRISTIAN SCHOOL OFFERS A COLLEGE PREPARATORY PROGRAM THAT PROMOTES TRADITIONAL CHRISTIAN VALUES, FOSTERS ACADEMICS, AND ACTIVELY PROMOTES CHARACTER TRAINING. ESTABLISHED IN 1978 AS A MINISTRY OF PRINCE AVENUE BAPTIST CHURCH, AND LOCATED ON A NEW CAMPUS IN BOGART, GEORGIA, PRINCE AVENUE SERVES STUDENTS IN THE ATHENS AREA, INCLUDING 15 SURROUNDING COUNTIES.PRINCE AVENUE CHRISTIAN SCHOOL IS FULLY ACCREDITED BY THE ASSOCIATION OF CHRISTIAN SCHOOLS INTERNATIONAL (ACSI), SOUTHERN ASSOCIATION OF COLLEGES AND SCHOOLS (SACS), AND MEMBERS OF THE GEORGIA INDEPENDENT SCHOOL ASSOCIATION (GISA). OUR CURRENT ACSI AND SACS ACCREDITATIONS COME UP FOR RENEWAL IN THE FALL OF 2015.  X  PRINCE AVENUE CHRISTIAN SCHOOL EXISTS TO INFUSE OUR SCHOOL COMMUNITY WITH A BIBLICAL WORLDVIEW BY EFFECTIVELY SHARING THE GOSPEL AND DEVELOPING FULLY DEVOTED FOLLOWERS OF JESUS CHRIST THROUGH SCRIPTURALLY BASED DISCIPLESHIP, ACADEMICS, FINE ARTS, AND ATHLETICS.  PRINCE AVENUE CHRISTIAN SCHOOL INC\n",
      "[('support', 7563), ('program', 7364), ('new', 7278), ('programs', 7116), ('school', 6899), ('children', 6476), ('provides', 6459), ('education', 6373), ('center', 6004), ('organization', 5946), ('housing', 5717), ('foundation', 5354), ('-', 5014), ('educational', 4863), ('students', 4810), ('development', 4759), ('mission', 4730), ('providing', 4647), ('provided', 4550), ('public', 4545)]\n",
      "~~~~~~~~~~~~~~~~~~~~\n",
      "7\n",
      "8800\n",
      "  Androscoggin Alumni Association Inc  X\n",
      "  X  Global Care Outreach Inc\n",
      "  Emory Medical Laboratories Inc  X\n",
      "ONEIDA CITY SCHOOL DISTRICT FOUNDATION INC    X\n",
      "  LABOR ARTS INC  X\n",
      "[('county', 341), ('york', 335), ('fund', 326), ('fire', 282), ('youth', 281), ('provide', 267), ('services', 261), ('education', 258), ('city', 251), ('ministries', 246), ('society', 237), ('housing', 223), ('support', 216), ('arts', 201), ('care', 190), ('organization', 179), ('international', 172), ('children', 169), ('company', 165), ('volunteer', 162)]\n",
      "~~~~~~~~~~~~~~~~~~~~\n",
      "8\n",
      "21329\n",
      "\n",
      "Celebration Inc DBA Bob Gass Evangelistic Assoc  X  Printing and distribution of a quarterly devotional called \"The Word For You Today\". These publications are distributed to shut-ins, prisoners, churches & others throughout the United States.  Religious and Charitable Organization, formed and funded for the purpose of spreading the Christian religion and its beliefs both domestically and internationally.\n",
      "OUTREACH INSTITUTE FOR GENDER STUDIES\n",
      "SHOREFRONT\n",
      "STRIKE PERCUSSION ENSEMBLE\n",
      "[('trust', 845), ('county', 772), ('center', 694), ('america', 650), ('new', 622), ('ministries', 608), ('knights', 586), ('united', 575), ('council', 559), ('charitable', 552), ('columbus', 538), ('national', 532), ('organization', 528), ('students', 520), ('corporation', 513), ('public', 505), ('historical', 464), ('development', 436), ('education', 428), ('life', 416)]\n",
      "~~~~~~~~~~~~~~~~~~~~\n",
      "9\n",
      "7184\n",
      "GUT TENNIS ASSOCIATION INC\n",
      "CEDAR FIRE AND RESCUE ASSOCIATION INC\n",
      "REO TOWN COMMERCIAL ASSOCIATION\n",
      "SUNSET WOODS ASSOCIATION  PROVIDE RESIDENTIAL RENTAL FACILITIES WITHIN THE CITY OF HIGHLAND PARK, ILLINOIS FOR SENIOR CITIZENS OF LOW AND MODERATE INCOME.  X\n",
      "ROCKLAND COUNTY COLUMBUS ASSOCIATION INC\n",
      "[('civil', 408), ('national', 380), ('international', 354), ('county', 313), ('michigan', 261), ('school', 210), ('fire', 203), ('community', 194), ('new', 189), ('alumni', 186), ('jewish', 162), ('state', 157), ('retired', 155), ('lake', 152), ('york', 139), ('fighters', 134), ('chapter', 127), ('youth', 126), ('america', 118), ('georgia', 113)]\n",
      "~~~~~~~~~~~~~~~~~~~~\n",
      "10\n",
      "2503\n",
      "ILLINOIS LEATHERNECKS CENTRAL CHAPTER\n",
      "TOASTMASTERS INTERNATIONAL\n",
      "SONS OF ITALY IN AMERICA\n",
      "SONS OF ITALY IN AMERICA 443 DUCA DELGI ABRUZZI\n",
      "TOASTMASTERS INTERNATIONAL\n",
      "[('star', 401), ('independent', 385), ('fraternal', 237), ('fellows', 230), ('odd', 229), ('foresters', 156), ('new', 140), ('york', 138), ('sons', 136), ('illinois', 127), ('georgia', 125), ('eagles', 123), ('police', 116), ('moose', 88), ('women', 77), ('gtu', 75), ('veterans', 72), ('america', 60), ('military', 57), ('washington', 55)]\n",
      "~~~~~~~~~~~~~~~~~~~~\n",
      "11\n",
      "1538\n",
      "PREVENTION SPECIALIST CERTIFICATION BOARD OF WASHINGTON STATE\n",
      "MICHIGAN STATE UNIVERSITY\n",
      "VETERANS OF FOREIGN WARS OF THE UNITED STATES DEPT OF NEW YORK\n",
      "INKSTER DOVE\n",
      "MICHIGAN STATE UNIVERSITY\n",
      "[('veterans', 296), ('washington', 265), ('foreign', 260), ('wars', 259), ('dept', 210), ('union', 121), ('athletic', 116), ('amateur', 115), ('america', 99), ('grange', 73), ('knights', 54), ('templar', 54), ('georgia', 44), ('squadrons', 41), ('power', 41), ('national', 40), ('war', 39), ('montana', 38), ('department', 37), ('jewish', 35)]\n"
     ]
    }
   ],
   "source": [
    "clustered_missions = {}\n",
    "for label, ein in zip(labels, sorted_nfps):\n",
    "    if label not in clustered_missions:\n",
    "        clustered_missions[label] = [missions[ein]]\n",
    "    else:\n",
    "        clustered_missions[label].append(missions[ein])\n",
    "\n",
    "word_counts = {}\n",
    "for label, stmts in clustered_missions.items():\n",
    "    print('~' * 20)\n",
    "    print(label)\n",
    "    print(len(stmts))\n",
    "    word_counts[label] = Counter(\n",
    "        [word.lower() for stmt in stmts for word in stmt.split()\n",
    "         if word.lower() not in custom_stopwords]\n",
    "    )\n",
    "    print('\\n'.join(stmts[:5]))\n",
    "    print(word_counts[label].most_common(25)[-20:])"
   ]
  },
  {
   "cell_type": "markdown",
   "metadata": {},
   "source": [
    "## Apply tags, informed by the clustering\n",
    "\n",
    "Not sure whether the time it took to cluster was worth it.\n",
    "We did get things like music grouped together, financial/scholarship organizations together, and types of medical organizations grouped together, but I think I could have figured that out without clustering. The top-scoring tokens help with choosing phrases to match to the tags, thought.\n",
    "\n",
    "From comments in the [pitch document][bundlekind-pitch]:\n",
    "\n",
    ">We should align to an agreed upon core set of issues across the network, and stick to that. We've sort of been trying to align to the issues Code Corps has in their tool, but we should also talk to groups like Brand New Congress, Issue Voter, and any others with issue categories.\n",
    "\n",
    "\n",
    "[bundlekind-pitch]: https://docs.google.com/document/d/1KEC3JhaJlIf7heexA8LtSaCuTGABYtvu_iRKC-Y0SLk"
   ]
  },
  {
   "cell_type": "code",
   "execution_count": 237,
   "metadata": {
    "collapsed": false
   },
   "outputs": [],
   "source": [
    "tags = dict(\n",
    "    religious=['christ', 'jesus', 'prayer', 'god', 'church', 'pastor', 'mission', 'mosque',\n",
    "               'temple', 'abraham', 'faith', 'bibl', 'spiritual', 'meditation',\n",
    "               'minist', 'jewish', 'hebrew', 'salvation', 'divin', 'holy', 'eternity',\n",
    "               'catholic', 'sikh', 'buddhist', 'hindu', 'bahai', 'islam', 'hope', 'jain', 'atheis'],\n",
    "    youth=['youth', 'child', 'kid', 'tot', 'camp', 'campus', 'play', 'motiv', 'girl',\n",
    "           'boy', 'student', 'scout', '4h', 'mentor', 'minor', 'troop'],\n",
    "    family=['family', 'husband', 'wive', 'wife', 'parent', 'marriage'],\n",
    "    women=['women', 'woman', 'girl', 'ladies', 'daughter'],\n",
    "    gender=['gender', 'lgbt'],\n",
    "    sports=['sport', 'ath', 'fitness', 'hike', 'hiking', 'ball', 'little league', 'pop warner',\n",
    "            'ski', 'skate', 'snow', 'rifle', 'hunt', 'fish', 'run', 'cycle', 'bike', 'swim',\n",
    "            'equestrian', 'ice rink', 'tennis', 'hunt', 'bowling', 'gymnast', 'judo', 'soccer',\n",
    "            'karate', 'kung', 'taek', 'yoga', 'rodeo', 'wrestl', 'double dutch',\n",
    "            'lacrosse', 'budo', 'backpack'],\n",
    "    education=['teach', 'educ', 'pta', 'learn', 'student', 'study', 'school',\n",
    "               'grade', 'alumni', 'university', 'college', 'school', 'institute',\n",
    "               'booster', 'scholar', 'academy', 'elementary',\n",
    "               'literacy', 'library', 'toastmaster', 'debate', 'museum', 'planetarium'],\n",
    "    health=['health', 'counseling', 'mental', 'medical', 'medicine', 'hospital', 'clinic',\n",
    "            'doctor', 'nurse', 'parenthood', 'cancer', 'hospice', 'terminal', 'care',\n",
    "            'red cross'],\n",
    "    arts=['art', 'perform', 'choir', 'sing', 'choral', 'adelines', 'symphony',\n",
    "          'orchest', 'danc', 'choreogra',\n",
    "          'music', 'jazz', 'band', 'marching', 'ensemble', 'theat', 'movie',\n",
    "          'film', 'cinema', 'poetry', 'poem', 'writ', 'paint', 'sculpt', 'ensemble',\n",
    "          'cultural', 'literature', 'opera', 'broadway', 'production'],\n",
    "    employment=['train', 'vocation', 'job', 'work', 'skill'],\n",
    "    nature=['nature', 'beautiful', 'animal', 'pet', 'horse', 'rescue', 'marine',\n",
    "            'green', 'nature', 'tree','arbor', 'preserve', 'conserv', 'wolf',\n",
    "            'eagle', 'outdoor', 'beach', 'trail', 'endangered', 'coast',\n",
    "            'garden', 'park', 'mountain', 'lake', 'sanctuary', 'energy',\n",
    "            'canal', 'creek'],\n",
    "    rehabilitation=['prison', 'rehab', 'transitional house'],\n",
    "    addiction=['addiction', 'drug', 'alcohol', 'aaa', 'overdose'],\n",
    "    funding=['fund', 'foundation', 'charit', 'trust', 'invest', 'income', 'scholarship',\n",
    "             'fellowship', 'financ', 'capital', 'gift'],\n",
    "    media=['media', 'broadcast', 'telev', 'tv', 'radio', 'news', 'speech', 'publish',\n",
    "           'publicat'],\n",
    "    military=['veteran', 'vets', 'vfw', 'war', 'soldier', 'military', 'army', 'navy', 'guard',\n",
    "              'force', 'squadron', 'battalion', 'corps'],\n",
    "    elderly=['senior', 'home care', 'elderly', 'adult', 'retire', 'dementia', 'grandma', 'grandpa'],\n",
    "    poverty=['poverty', 'poor', 'homeless', 'kitchen', 'food', 'pantry', 'low income',\n",
    "             'habitat', 'thrift', 'goodwill', 'charity', 'need'],\n",
    "    professional=['union', 'worker', 'nurse', 'doctor', 'police', 'sheriff', 'fire',\n",
    "                  'ist', 'bar ass', 'cemetery', 'pilot', 'commerce', 'employee',\n",
    "                  'engineer', 'users', 'development', 'trade', 'barber', 'cosmetic',\n",
    "                  'opportun', 'management', 'economic'],\n",
    "    advocacy=['lawyer', 'legal', 'defense', 'liberty', 'liberties', 'civil'],\n",
    "    social=['daughter', 'son', 'brother', 'sister', 'men', 'women',\n",
    "            'riders', 'motorcy', 'deaf', 'blind', 'immigr', 'refugee', 'association', 'assn',\n",
    "           'family', 'community', 'neighbor', 'order', ],\n",
    "    # Omit some greek letters because they're common subcomponents of other words\n",
    "    greek=['fraternity', 'sorority', 'beta', 'gamma', 'delta', 'epsilon',\n",
    "           'zeta', 'eta', 'theta', 'iota', 'kappa', 'lambda', 'xi', 'omicron',\n",
    "           'rho', 'sigma', 'tau', 'upsilon', 'phi', 'chi', 'psi', 'omega'],\n",
    "    first_peoples=['tribe', 'iroquois', 'cherokee', 'shawnee', 'teepee', ],\n",
    "    charitable=['social', 'kiwanis', 'rotary', 'legion', 'lodge', 'mason', 'jaycee',\n",
    "            'lions', 'elks', 'optimist', 'moose', 'shriner', 'human', 'heritage', 'father',\n",
    "            'mother', 'association', 'assoc', 'assn', 'service', 'club', 'society',\n",
    "            'friend', 'knight', 'beautiful'],\n",
    "    politics=['politi', 'campaign', 'vote', 'petiti', 'activis', 'grassroot', 'patriot', 'progressive'],\n",
    "    farm=['farm', 'barn', 'agriculture', 'biofuel', 'ethanol'],\n",
    "    technology=['tech', 'code', 'programming', 'computer', 'biofuel',\n",
    "                'entrepreneur', 'enegy', 'advanced', 'future'],\n",
    "    \n",
    ")"
   ]
  },
  {
   "cell_type": "code",
   "execution_count": 238,
   "metadata": {
    "collapsed": false
   },
   "outputs": [],
   "source": [
    "tagged_missions = {}\n",
    "unmatched = 0\n",
    "no_mission = 0\n",
    "for ein, mission in missions.items():\n",
    "    if len(ein) == 0:  # Skipp the \n",
    "        continue\n",
    "    tagged_missions[ein] = []\n",
    "    lower_mission = mission.lower()\n",
    "    if len(lower_mission) == 0:\n",
    "        no_mission += 1\n",
    "        continue\n",
    "    for tag, matchers in tags.items():\n",
    "        for m in matchers:\n",
    "            if m in lower_mission:\n",
    "                tagged_missions[ein].append(tag)\n",
    "                break\n",
    "    if len(tagged_missions[ein]) == 0:\n",
    "        unmatched += 1"
   ]
  },
  {
   "cell_type": "code",
   "execution_count": 239,
   "metadata": {
    "collapsed": false
   },
   "outputs": [
    {
     "name": "stdout",
     "output_type": "stream",
     "text": [
      "10466 out of 110580 missions remain unmatched\n",
      "24 missions have no statement at all\n",
      "Done.\n",
      "Tagged files in:\n",
      "\tdata/tagged_eins/MT/Kalipell.json\n",
      "Tags in:\n",
      "\tdata/tagged_eins/all_tags.yml\n"
     ]
    }
   ],
   "source": [
    "import json\n",
    "import yaml\n",
    "\n",
    "msg = '{} out of {} missions remain unmatched'\n",
    "print(msg.format(unmatched, len(tagged_missions)))\n",
    "print('{} missions have no statement at all'.format(no_mission))\n",
    "\n",
    "\n",
    "# Make all directories if they don't exist\n",
    "def setup_path(directory):\n",
    "    if not os.path.exists(directory):\n",
    "        os.makedirs(directory)\n",
    "\n",
    "\n",
    "# Write JSON objects containing the EINS and tags to file.\n",
    "# Directory structure:\n",
    "#   . tagged_eins\n",
    "#   |-- <state-abbr>\n",
    "#     |-- <city>.json\n",
    "directory = os.path.join('data', 'tagged_eins')\n",
    "setup_path(directory)\n",
    "for state, city_lookups in ein_state_city.items():\n",
    "    subdir = os.path.join(directory, state)\n",
    "    setup_path(subdir)\n",
    "    for city, selected_eins in city_lookups.items():\n",
    "        eins_destination = os.path.join(subdir, city + '.json')\n",
    "        tagged_subset = dict(\n",
    "            (k, v) for k, v in tagged_missions.items()\n",
    "            if k in selected_eins\n",
    "        )\n",
    "        with open(eins_destination, 'w') as outfile:\n",
    "            outfile.write(json.dumps(tagged_subset))\n",
    "\n",
    "\n",
    "# Save all of the tags\n",
    "# Use YAML format so that non-coders can edit the tags list\n",
    "tags_destination = os.path.join(directory, 'all_tags.yml')\n",
    "with open(tags_destination, 'w') as outfile:\n",
    "    yaml.dump(tags, outfile, default_flow_style=False)\n",
    "\n",
    "\n",
    "print('Done.\\nTagged files in:\\n\\t{}'.format(eins_destination))\n",
    "print('Tags in:\\n\\t{}'.format(tags_destination))"
   ]
  },
  {
   "cell_type": "markdown",
   "metadata": {},
   "source": [
    "## Count how many of each tag we have"
   ]
  },
  {
   "cell_type": "code",
   "execution_count": 251,
   "metadata": {
    "collapsed": false
   },
   "outputs": [
    {
     "name": "stdout",
     "output_type": "stream",
     "text": [
      "social          40% (43681)\n",
      "charitable      36% (39819)\n",
      "funding         28% (31069)\n",
      "professional    26% (28352)\n",
      "education       25% (27315)\n",
      "arts            21% (23487)\n",
      "greek           18% (19363)\n",
      "youth           14% (15027)\n",
      "religious       13% (14245)\n",
      "health          13% (14048)\n",
      "sports          11% (11664)\n",
      "nature          10% (10831)\n",
      "employment       9% (10152)\n",
      "poverty          7% (7931)\n",
      "family           7% (7337)\n",
      "military         6% (7064)\n",
      "elderly          4% (4976)\n",
      "technology       4% (3940)\n",
      "women            3% (3609)\n",
      "media            2% (2653)\n",
      "politics         2% (1684)\n",
      "advocacy         1% (1387)\n",
      "rehabilitation   1% (1145)\n",
      "farm             1% (935)\n",
      "addiction        1% (654)\n",
      "gender           0% (226)\n",
      "first_peoples    0% (101)\n"
     ]
    }
   ],
   "source": [
    "tag_counts = Counter(\n",
    "        [tag for tag_list in tagged_missions.values()\n",
    "         for tag in tag_list]\n",
    "    )\n",
    "\n",
    "total_missions = len(tagged_missions)\n",
    "for entry in tag_counts.most_common():\n",
    "    tag, count = entry\n",
    "    print('{:<14}'.format(tag), end='  ')\n",
    "    print('{:2.0f}% ({})'.format(100 * count / total_missions, count))"
   ]
  },
  {
   "cell_type": "markdown",
   "metadata": {},
   "source": [
    "## Show some remaining unlabeled mission statements"
   ]
  },
  {
   "cell_type": "code",
   "execution_count": 211,
   "metadata": {
    "collapsed": false
   },
   "outputs": [
    {
     "name": "stdout",
     "output_type": "stream",
     "text": [
      "\n",
      "  OTHER NON-ALLOCABLE EXPENSE -  WOLKERNIE CO-TR UA CHAR\n",
      "BEULAHLAND MANOR CORP\n",
      "  X  Life Vest Inside Inc\n",
      "I-85 NORTH BOARD OF REALTORS INC\n",
      "KAIROS FORUM\n",
      "DESTINY REVEALED INTERNATIONAL INC\n",
      "FORT PECK PALEONTOLOGY INC\n",
      "  X  Global Sourcing Council Inc\n",
      "RIVER VALLEY REP INC\n",
      "  JARC PROPERTIES V  X\n",
      "MEA-MFT\n",
      "CUGOS\n",
      "TIMBERS LEGACY INC\n",
      "TRI STATE HOG 2155 INC\n",
      "  FOUNDING FOURTEEN INC  X\n",
      "ADVANCE 3000\n",
      "TRANSITION SAUTEE INC\n",
      "2000 WISHES INC\n",
      "WOODSTOCK TKD FLYING TIGERS INC\n",
      "WISHRAM P R I D E\n",
      "LIFE SOLUTIONS OF HAMLIN INC\n",
      "  The Avner Instute Inc  X\n",
      "BOX ELDER DITCH COMPANY\n",
      "WENOIS FIELD ARCHERS INC\n",
      "WITH SINCERITY INC\n",
      "UNIQUE BY DESIGN\n",
      "GEORGIA2STEPSAHEAD\n",
      "ROAMIN TACOMANS\n",
      "  X  DOCOMOMO US\n",
      "MORTAR BOARD INC\n",
      "  WPJC LICENSE  WPRR INC\n",
      "  DUPAGE SPONSORS  X\n",
      "  X  Hospeace House Inc\n",
      "  Sensory Beans Inc  X\n",
      "DEMOLAY INTERNATIONAL\n",
      "INKSTER DOVE\n",
      "ITALIAN GENEALOGICAL GROUP INC\n",
      "ZONE BUSTERS LLC\n",
      "ASOCIACION DE LONG ISLAND DE UNIDAD HISPANA-AMERICANA INC\n",
      "EPHRATA AIRPORT INTERPRETIVE CENTER\n",
      "  WINGS OF WONDER INC  X\n",
      "TUESDAY 5 PLUS AFG\n",
      "MOUNT OLIVE 986\n",
      "KBST INC\n",
      "  MARIAS MANOR INC  X\n",
      "P E A C E INCORPORATED\n",
      "ACADEME OF AURORA\n",
      "  X  SOUTHSIDE F O O L S NFP\n",
      "KEWEENAW KRAYONS\n",
      "LAINGSBURG CLOTHESLINE\n",
      "  CHATTAHOOCHEE JUNIOR COUGARS  X\n",
      "  X  THE BOLD INITIATIVE\n",
      "PRAGATI INC\n",
      "ADVANCING MACOMB INC\n",
      "KITHARA PROJECT INC    X\n",
      "  OUT OF THE BINDERS INC  X\n",
      "  X  Homestead Ownership Inc\n",
      "ST JOHNS MALANKARA CENTER OF STATEN ISLAND\n",
      "JURISDICTION WIDE RESIDENT COUNCIL OF BUFFALO\n",
      "  X  SOUND BUSINESS INC\n",
      "  ENVISION COORDINATED SUPPORTS INC  X\n",
      "CARNATION 4TH OF JULY COMMITTEE\n",
      "P A W S OF EFFINGHAM COUNTY INC\n",
      "NAIFA KALAMAZOO\n",
      "7D COORDINATING COUNCIL\n",
      "  BELIEVE IN THE LIGHT TRANSITIONAL H  X\n",
      "FOREVERU\n",
      "SUN RIVER VALLEY DITCH CO\n",
      "CIYMS\n",
      "ANONYMOUS IMPACT NFP\n",
      "NEWBURGH COALITION INC\n",
      "PEACE & PROSPERITY PROJECT\n",
      "BLUWORLD INC\n",
      "CANSTRUCTION LONG ISLAND\n",
      "  X  HANDS ON THOMAS COUNTY INC\n",
      "NEW LIFE RELTIONSHIPS\n",
      "  RAGS OF HONOR 1 CO MARK DOYLE  X\n",
      "TAXPAYERS TO SAVE THE PAUMONOK BIOENCLAVE INC\n",
      "CULTIVADORESCULTIVATORS    X\n",
      "I HAVE A DREAM FOR COWLITZ COUNTY\n",
      "ACCA OF CENTRAL NEW YORK INC\n",
      "COLLINSVILLE TEPEE INC\n",
      "  LOVE HAS COME INC  X\n",
      "  HAIR 2 HELP  X\n",
      "MT RAINIER CHAPTER OF C S I\n",
      "TAFT ROAD CORP\n",
      "LIMINAL PLACE\n",
      "  X  TRI-CITY NETS C/O SHANNAN WESTON\n",
      "  X  Urban Studio Unbound Inc\n",
      "ALTRUSA INTERNATIONAL INC\n",
      "LORI S VOICE\n",
      "ATA OUTREACH INC\n",
      "CARING CREW INC\n",
      "3RD SUNNY SATURDAY\n",
      "NEW YORK CHAPTER NYSSPE INC\n",
      "LYNBROOK PBA\n",
      "ST TERESA CONFERENCE\n",
      "NIAGARA FRONTIER REGION OF M A R C\n",
      "COMPASSIONATE SOUL\n",
      "SAPPHYRE STRINGS NFP\n",
      "  Hispanofest Inc  X\n",
      "JASA CORPORATION\n",
      "UKRAINIAN PUBLIC ORGANIZATION ORANGE WAVE\n",
      "  X  STOP INTERNATIONAL INC\n",
      "  X  ZOOZ INC\n",
      "CPYFFL INC\n",
      "  LEV LEYTZAN-THE COMPASSIONATE CLOWN INC  X\n",
      "YANAA INC    X\n",
      "MEITO SHODO KAI\n",
      "SOWING THE SEEDS INC\n",
      "  X  INTER-CONNECTIONS DROP-IN CENTER INC\n",
      "KELLYS SERENITY HOUSE INC\n",
      "ALL FOR THE EAST END INC\n",
      "WHATCOM COUNTY RE-ENTRY COALITION\n",
      "EMBER 911\n",
      "KEEP GOING FOR MARK BROCKETT INC NFP\n",
      "  Cub's Place  X\n",
      "  St Williams on Long Point Inc  X\n",
      "LARCHMONT-MAMARONECK RADAR INC\n",
      "PROJECT UNITY\n",
      "  Normandy Allies Inc  X\n",
      "  RICHCHAR INC  EXPENSES\n",
      "  H P BRIDGES 1952 MAIN AC TA-IRREV  ROUNDING\n",
      "  ISAIAH 61 ProjectInc  X\n",
      "The Instructional Team: SEE SCHEDULE O FOR DESCRIPTION  THE URBAN ASSEMBLY INC  SEE SCHEDULE O FOR DESCRIPTION.  X\n",
      "  MARIA SS DELL-ASSUNTA INC  X\n",
      "  JOODAYOH INC  X\n",
      "BREAD OF LIFE\n",
      "FEDERATION OF PEDIATRIC ORGANIZATIONS INC\n",
      "  FOCAS  X\n",
      "BASILS BUDDIES\n",
      "ORPHANAID INC\n",
      "citizens committee for a long island power authority inc\n",
      "YOUNG AUDIENCES OF WESTERN MONTANA\n",
      "LIMINA INC\n",
      "LUMINOUS INC\n",
      "SENTHAMIZH KALAI KOODAM INC\n",
      "  SYRACUSE 2020 INC  X\n",
      "BECAUSE OF CODY\n",
      "SALON NATIONAL LABOUTIQUE DES HUIT CHAPEAUX ET QUARANTE FEMMES\n",
      "VETS ROLL INC\n",
      "CONFIRMED TRUTH INTERNATIONAL INC\n",
      "BOWERY BABES NY INC\n",
      "CNS FIELD HOCKEY\n",
      "  Other Expenses  Turks & Albanians of Macedonia Inc\n",
      "DOUNIA PROJECT INC\n",
      "SHOW THE TRUTH WASHINGTON\n",
      "INTERNATIONAL DISPUTE RESOLUTION ORGANIZATION\n",
      "INTERSECTION OF OWOSSO\n",
      "  X  FIELDS OF GRACE OUTREACH\n",
      "AMVETS\n",
      "LATTER RAIN OUTREACH\n",
      "  FOSTER SOLUTIONS  X\n",
      "REV MICHAEL C HOGAN COUNCIL 15917\n",
      "  X  SWEET ONION CLASSIC INC\n",
      "HOLLY WATER SYSTEMS INC\n",
      "4SARAH INC\n",
      "MEA-MFT\n",
      "DEMOLAY INTERNATIONAL\n",
      "  WINGS GLOBAL OUTREACH INC  X\n",
      "UPSTATE NEW YORK CHAPTER OF RIMS\n",
      "IGLESIA PENTECOSTAL CAMINO A DAMASCO INC\n",
      "  X  YOUNG DESIGNERS SEWING PROGRAM INC\n",
      "  PLAINS JUSTICE  X\n",
      "PLANT A SEED READ\n",
      "NEURONS BEHAVIORAL RESOURCES INC\n",
      "MEA-MFT\n",
      "  OLSA Lightning Inc  X\n",
      "ROANOKE CONFERENCE\n",
      "  X  PLATTSBURGH MEMORIAL CHAPEL INC\n",
      "ANNIE AMERIKA\n",
      "ST LUKE CONFERENCE\n",
      "KEESHOND FANCIERS OF THE CENTRAL STATES INC\n",
      "GRACE GUEST HOUSE INC\n",
      "ROBOT RAMPAGE\n",
      "SERB NATIONAL FEDERATION\n",
      "WEAVERS GUILD OF KALAMAZOO INC\n",
      "MEA-MFT\n",
      "IMNDN\n",
      "DESALES CENTER INC\n",
      "  X  MET-INDIA NA INC\n",
      "MESORA INC\n",
      "COCHECTON SPRUCE UP COMMITTEE INC\n",
      "LEWIS AND CLARK PTSA - 11 2 90\n",
      "  SHREE SUNDAR GOPAL MANDIR INC  X\n",
      "HE REACHED DOWN FROM ON HIGH\n",
      "WEARDIE INC\n",
      "DREAMING VIVIDLY IN COLOR\n",
      "  X  UNITED MORAVIAN SOCIETIES\n",
      "MONTANA FREEDOM OF INFORMATION HOTLINE INC\n",
      "MAKING CHOICES AND FACING CONSEQUENCES INC\n",
      "QUAIL UNLIMITED INC\n",
      "  BORN AND RAISED DETROIT  X\n",
      "PAYTENS POSSE\n",
      "OLGA STRAWBERRY COUNCIL\n",
      "AL-ANON\n",
      "ST SIMONS SURF SAILORS INC\n",
      "FITNESS BIZ\n",
      "  N/A  Pat Mac's Pack Inc\n"
     ]
    }
   ],
   "source": [
    "counter = 0\n",
    "iterator = iter(tagged_missions.items())\n",
    "while counter < 200:\n",
    "    ein, tag_list = next(iterator)\n",
    "    if len(tag_list) == 0:\n",
    "        print(missions[ein])\n",
    "        counter += 1"
   ]
  }
 ],
 "metadata": {
  "kernelspec": {
   "display_name": "Python 3",
   "language": "python",
   "name": "python3"
  },
  "language_info": {
   "codemirror_mode": {
    "name": "ipython",
    "version": 3
   },
   "file_extension": ".py",
   "mimetype": "text/x-python",
   "name": "python",
   "nbconvert_exporter": "python",
   "pygments_lexer": "ipython3",
   "version": "3.5.2"
  }
 },
 "nbformat": 4,
 "nbformat_minor": 0
}
